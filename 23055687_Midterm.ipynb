{
 "cells": [
  {
   "cell_type": "code",
   "execution_count": 1,
   "id": "4174e26c",
   "metadata": {},
   "outputs": [],
   "source": [
    "import seaborn as sns\n",
    "import pandas as pd\n",
    "import zipfile\n",
    "import numpy as np\n",
    "import requests\n"
   ]
  },
  {
   "cell_type": "code",
   "execution_count": 4,
   "id": "4cfdf183",
   "metadata": {},
   "outputs": [
    {
     "data": {
      "text/plain": [
       "403"
      ]
     },
     "execution_count": 4,
     "metadata": {},
     "output_type": "execute_result"
    }
   ],
   "source": [
    "x=requests.get('https://ies-python-midterm.s3.eu-central-1.amazonaws.com/studentsSets/XXXXXXX.zip')\n",
    "x.status_code"
   ]
  },
  {
   "cell_type": "code",
   "execution_count": 2,
   "id": "78ec5222",
   "metadata": {},
   "outputs": [],
   "source": [
    "x=requests.get('https://ies-python-midterm.s3.eu-central-1.amazonaws.com/studentsSets/23055687.zip')\n",
    "with zipfile.ZipFile('./23055687.zip') as z:\n",
    "    with z.open(\"data/CPRT.csv\") as f:\n",
    "        CPRT = pd.read_csv(f)\n",
    "    with z.open(\"data/HIG.csv\") as s:\n",
    "        HIG = pd.read_csv(s)\n",
    "    with z.open(\"data/IP.csv\") as l:\n",
    "        IP = pd.read_csv(l)\n",
    "    with z.open(\"data/MTB.csv\") as m:\n",
    "        MTB = pd.read_csv(m)\n",
    "        \n",
    "        "
   ]
  },
  {
   "cell_type": "code",
   "execution_count": 3,
   "id": "b130086a",
   "metadata": {},
   "outputs": [
    {
     "data": {
      "text/html": [
       "<div>\n",
       "<style scoped>\n",
       "    .dataframe tbody tr th:only-of-type {\n",
       "        vertical-align: middle;\n",
       "    }\n",
       "\n",
       "    .dataframe tbody tr th {\n",
       "        vertical-align: top;\n",
       "    }\n",
       "\n",
       "    .dataframe thead th {\n",
       "        text-align: right;\n",
       "    }\n",
       "</style>\n",
       "<table border=\"1\" class=\"dataframe\">\n",
       "  <thead>\n",
       "    <tr style=\"text-align: right;\">\n",
       "      <th></th>\n",
       "      <th>Date</th>\n",
       "      <th>High</th>\n",
       "      <th>Low</th>\n",
       "      <th>Open</th>\n",
       "      <th>Close</th>\n",
       "      <th>Volume</th>\n",
       "      <th>Adj Close</th>\n",
       "    </tr>\n",
       "  </thead>\n",
       "  <tbody>\n",
       "    <tr>\n",
       "      <th>0</th>\n",
       "      <td>2017-11-13</td>\n",
       "      <td>17.995001</td>\n",
       "      <td>17.850000</td>\n",
       "      <td>17.885000</td>\n",
       "      <td>17.940001</td>\n",
       "      <td>1173800.0</td>\n",
       "      <td>17.940001</td>\n",
       "    </tr>\n",
       "    <tr>\n",
       "      <th>1</th>\n",
       "      <td>2017-11-14</td>\n",
       "      <td>18.000000</td>\n",
       "      <td>17.825001</td>\n",
       "      <td>17.860001</td>\n",
       "      <td>17.940001</td>\n",
       "      <td>1121200.0</td>\n",
       "      <td>17.940001</td>\n",
       "    </tr>\n",
       "    <tr>\n",
       "      <th>2</th>\n",
       "      <td>2017-11-15</td>\n",
       "      <td>18.040001</td>\n",
       "      <td>17.820000</td>\n",
       "      <td>17.905001</td>\n",
       "      <td>17.975000</td>\n",
       "      <td>1366000.0</td>\n",
       "      <td>17.975000</td>\n",
       "    </tr>\n",
       "    <tr>\n",
       "      <th>3</th>\n",
       "      <td>2017-11-16</td>\n",
       "      <td>18.040001</td>\n",
       "      <td>17.915001</td>\n",
       "      <td>18.014999</td>\n",
       "      <td>17.969999</td>\n",
       "      <td>2217800.0</td>\n",
       "      <td>17.969999</td>\n",
       "    </tr>\n",
       "    <tr>\n",
       "      <th>4</th>\n",
       "      <td>2017-11-17</td>\n",
       "      <td>17.945000</td>\n",
       "      <td>17.719999</td>\n",
       "      <td>17.945000</td>\n",
       "      <td>17.775000</td>\n",
       "      <td>2589600.0</td>\n",
       "      <td>17.775000</td>\n",
       "    </tr>\n",
       "    <tr>\n",
       "      <th>...</th>\n",
       "      <td>...</td>\n",
       "      <td>...</td>\n",
       "      <td>...</td>\n",
       "      <td>...</td>\n",
       "      <td>...</td>\n",
       "      <td>...</td>\n",
       "      <td>...</td>\n",
       "    </tr>\n",
       "    <tr>\n",
       "      <th>1253</th>\n",
       "      <td>2022-11-04</td>\n",
       "      <td>58.060001</td>\n",
       "      <td>56.160000</td>\n",
       "      <td>57.330002</td>\n",
       "      <td>57.380001</td>\n",
       "      <td>1824800.0</td>\n",
       "      <td>57.380001</td>\n",
       "    </tr>\n",
       "    <tr>\n",
       "      <th>1254</th>\n",
       "      <td>2022-11-07</td>\n",
       "      <td>58.369999</td>\n",
       "      <td>57.029999</td>\n",
       "      <td>58.110001</td>\n",
       "      <td>57.090000</td>\n",
       "      <td>3284900.0</td>\n",
       "      <td>57.090000</td>\n",
       "    </tr>\n",
       "    <tr>\n",
       "      <th>1255</th>\n",
       "      <td>2022-11-08</td>\n",
       "      <td>57.930000</td>\n",
       "      <td>55.980000</td>\n",
       "      <td>57.430000</td>\n",
       "      <td>56.889999</td>\n",
       "      <td>2449400.0</td>\n",
       "      <td>56.889999</td>\n",
       "    </tr>\n",
       "    <tr>\n",
       "      <th>1256</th>\n",
       "      <td>2022-11-10</td>\n",
       "      <td>60.509998</td>\n",
       "      <td>58.560001</td>\n",
       "      <td>58.720001</td>\n",
       "      <td>60.459999</td>\n",
       "      <td>3288300.0</td>\n",
       "      <td>60.459999</td>\n",
       "    </tr>\n",
       "    <tr>\n",
       "      <th>1257</th>\n",
       "      <td>2022-11-11</td>\n",
       "      <td>61.869999</td>\n",
       "      <td>60.520000</td>\n",
       "      <td>60.529999</td>\n",
       "      <td>61.560001</td>\n",
       "      <td>1938900.0</td>\n",
       "      <td>61.560001</td>\n",
       "    </tr>\n",
       "  </tbody>\n",
       "</table>\n",
       "<p>1258 rows × 7 columns</p>\n",
       "</div>"
      ],
      "text/plain": [
       "            Date       High        Low       Open      Close     Volume  \\\n",
       "0     2017-11-13  17.995001  17.850000  17.885000  17.940001  1173800.0   \n",
       "1     2017-11-14  18.000000  17.825001  17.860001  17.940001  1121200.0   \n",
       "2     2017-11-15  18.040001  17.820000  17.905001  17.975000  1366000.0   \n",
       "3     2017-11-16  18.040001  17.915001  18.014999  17.969999  2217800.0   \n",
       "4     2017-11-17  17.945000  17.719999  17.945000  17.775000  2589600.0   \n",
       "...          ...        ...        ...        ...        ...        ...   \n",
       "1253  2022-11-04  58.060001  56.160000  57.330002  57.380001  1824800.0   \n",
       "1254  2022-11-07  58.369999  57.029999  58.110001  57.090000  3284900.0   \n",
       "1255  2022-11-08  57.930000  55.980000  57.430000  56.889999  2449400.0   \n",
       "1256  2022-11-10  60.509998  58.560001  58.720001  60.459999  3288300.0   \n",
       "1257  2022-11-11  61.869999  60.520000  60.529999  61.560001  1938900.0   \n",
       "\n",
       "      Adj Close  \n",
       "0     17.940001  \n",
       "1     17.940001  \n",
       "2     17.975000  \n",
       "3     17.969999  \n",
       "4     17.775000  \n",
       "...         ...  \n",
       "1253  57.380001  \n",
       "1254  57.090000  \n",
       "1255  56.889999  \n",
       "1256  60.459999  \n",
       "1257  61.560001  \n",
       "\n",
       "[1258 rows x 7 columns]"
      ]
     },
     "execution_count": 3,
     "metadata": {},
     "output_type": "execute_result"
    }
   ],
   "source": [
    "CPRT"
   ]
  },
  {
   "cell_type": "code",
   "execution_count": 13,
   "id": "7a6d199b",
   "metadata": {},
   "outputs": [
    {
     "data": {
      "text/html": [
       "<div>\n",
       "<style scoped>\n",
       "    .dataframe tbody tr th:only-of-type {\n",
       "        vertical-align: middle;\n",
       "    }\n",
       "\n",
       "    .dataframe tbody tr th {\n",
       "        vertical-align: top;\n",
       "    }\n",
       "\n",
       "    .dataframe thead th {\n",
       "        text-align: right;\n",
       "    }\n",
       "</style>\n",
       "<table border=\"1\" class=\"dataframe\">\n",
       "  <thead>\n",
       "    <tr style=\"text-align: right;\">\n",
       "      <th></th>\n",
       "      <th>Date</th>\n",
       "      <th>High</th>\n",
       "      <th>Low</th>\n",
       "      <th>Open</th>\n",
       "      <th>Close</th>\n",
       "      <th>Volume</th>\n",
       "      <th>Adj Close</th>\n",
       "    </tr>\n",
       "  </thead>\n",
       "  <tbody>\n",
       "    <tr>\n",
       "      <th>0</th>\n",
       "      <td>2017-11-13</td>\n",
       "      <td>55.810001</td>\n",
       "      <td>55.259998</td>\n",
       "      <td>55.430000</td>\n",
       "      <td>55.689999</td>\n",
       "      <td>1721100.0</td>\n",
       "      <td>50.072018</td>\n",
       "    </tr>\n",
       "    <tr>\n",
       "      <th>1</th>\n",
       "      <td>2017-11-14</td>\n",
       "      <td>56.259998</td>\n",
       "      <td>55.430000</td>\n",
       "      <td>55.430000</td>\n",
       "      <td>56.220001</td>\n",
       "      <td>1820200.0</td>\n",
       "      <td>50.548561</td>\n",
       "    </tr>\n",
       "    <tr>\n",
       "      <th>2</th>\n",
       "      <td>2017-11-15</td>\n",
       "      <td>56.970001</td>\n",
       "      <td>55.790001</td>\n",
       "      <td>55.880001</td>\n",
       "      <td>56.669998</td>\n",
       "      <td>2386700.0</td>\n",
       "      <td>50.953156</td>\n",
       "    </tr>\n",
       "    <tr>\n",
       "      <th>3</th>\n",
       "      <td>2017-11-16</td>\n",
       "      <td>57.080002</td>\n",
       "      <td>55.880001</td>\n",
       "      <td>56.750000</td>\n",
       "      <td>56.009998</td>\n",
       "      <td>2145300.0</td>\n",
       "      <td>50.359737</td>\n",
       "    </tr>\n",
       "    <tr>\n",
       "      <th>4</th>\n",
       "      <td>2017-11-17</td>\n",
       "      <td>56.520000</td>\n",
       "      <td>55.549999</td>\n",
       "      <td>55.779999</td>\n",
       "      <td>56.139999</td>\n",
       "      <td>1443300.0</td>\n",
       "      <td>50.476627</td>\n",
       "    </tr>\n",
       "    <tr>\n",
       "      <th>...</th>\n",
       "      <td>...</td>\n",
       "      <td>...</td>\n",
       "      <td>...</td>\n",
       "      <td>...</td>\n",
       "      <td>...</td>\n",
       "      <td>...</td>\n",
       "      <td>...</td>\n",
       "    </tr>\n",
       "    <tr>\n",
       "      <th>1254</th>\n",
       "      <td>2022-11-07</td>\n",
       "      <td>74.220001</td>\n",
       "      <td>73.260002</td>\n",
       "      <td>74.160004</td>\n",
       "      <td>73.970001</td>\n",
       "      <td>1749900.0</td>\n",
       "      <td>73.970001</td>\n",
       "    </tr>\n",
       "    <tr>\n",
       "      <th>1255</th>\n",
       "      <td>2022-11-08</td>\n",
       "      <td>74.279999</td>\n",
       "      <td>72.949997</td>\n",
       "      <td>73.800003</td>\n",
       "      <td>73.500000</td>\n",
       "      <td>1557600.0</td>\n",
       "      <td>73.500000</td>\n",
       "    </tr>\n",
       "    <tr>\n",
       "      <th>1256</th>\n",
       "      <td>2022-11-09</td>\n",
       "      <td>73.370003</td>\n",
       "      <td>71.660004</td>\n",
       "      <td>73.300003</td>\n",
       "      <td>71.910004</td>\n",
       "      <td>1942900.0</td>\n",
       "      <td>71.910004</td>\n",
       "    </tr>\n",
       "    <tr>\n",
       "      <th>1257</th>\n",
       "      <td>2022-11-10</td>\n",
       "      <td>74.419998</td>\n",
       "      <td>73.050003</td>\n",
       "      <td>73.489998</td>\n",
       "      <td>74.300003</td>\n",
       "      <td>1624300.0</td>\n",
       "      <td>74.300003</td>\n",
       "    </tr>\n",
       "    <tr>\n",
       "      <th>1258</th>\n",
       "      <td>2022-11-11</td>\n",
       "      <td>75.099998</td>\n",
       "      <td>73.250000</td>\n",
       "      <td>74.910004</td>\n",
       "      <td>73.629997</td>\n",
       "      <td>1988900.0</td>\n",
       "      <td>73.629997</td>\n",
       "    </tr>\n",
       "  </tbody>\n",
       "</table>\n",
       "<p>1259 rows × 7 columns</p>\n",
       "</div>"
      ],
      "text/plain": [
       "            Date       High        Low       Open      Close     Volume  \\\n",
       "0     2017-11-13  55.810001  55.259998  55.430000  55.689999  1721100.0   \n",
       "1     2017-11-14  56.259998  55.430000  55.430000  56.220001  1820200.0   \n",
       "2     2017-11-15  56.970001  55.790001  55.880001  56.669998  2386700.0   \n",
       "3     2017-11-16  57.080002  55.880001  56.750000  56.009998  2145300.0   \n",
       "4     2017-11-17  56.520000  55.549999  55.779999  56.139999  1443300.0   \n",
       "...          ...        ...        ...        ...        ...        ...   \n",
       "1254  2022-11-07  74.220001  73.260002  74.160004  73.970001  1749900.0   \n",
       "1255  2022-11-08  74.279999  72.949997  73.800003  73.500000  1557600.0   \n",
       "1256  2022-11-09  73.370003  71.660004  73.300003  71.910004  1942900.0   \n",
       "1257  2022-11-10  74.419998  73.050003  73.489998  74.300003  1624300.0   \n",
       "1258  2022-11-11  75.099998  73.250000  74.910004  73.629997  1988900.0   \n",
       "\n",
       "      Adj Close  \n",
       "0     50.072018  \n",
       "1     50.548561  \n",
       "2     50.953156  \n",
       "3     50.359737  \n",
       "4     50.476627  \n",
       "...         ...  \n",
       "1254  73.970001  \n",
       "1255  73.500000  \n",
       "1256  71.910004  \n",
       "1257  74.300003  \n",
       "1258  73.629997  \n",
       "\n",
       "[1259 rows x 7 columns]"
      ]
     },
     "execution_count": 13,
     "metadata": {},
     "output_type": "execute_result"
    }
   ],
   "source": [
    "HIG"
   ]
  },
  {
   "cell_type": "code",
   "execution_count": 14,
   "id": "e4be81c7",
   "metadata": {},
   "outputs": [
    {
     "data": {
      "text/html": [
       "<div>\n",
       "<style scoped>\n",
       "    .dataframe tbody tr th:only-of-type {\n",
       "        vertical-align: middle;\n",
       "    }\n",
       "\n",
       "    .dataframe tbody tr th {\n",
       "        vertical-align: top;\n",
       "    }\n",
       "\n",
       "    .dataframe thead th {\n",
       "        text-align: right;\n",
       "    }\n",
       "</style>\n",
       "<table border=\"1\" class=\"dataframe\">\n",
       "  <thead>\n",
       "    <tr style=\"text-align: right;\">\n",
       "      <th></th>\n",
       "      <th>Date</th>\n",
       "      <th>High</th>\n",
       "      <th>Low</th>\n",
       "      <th>Open</th>\n",
       "      <th>Close</th>\n",
       "      <th>Volume</th>\n",
       "      <th>Adj Close</th>\n",
       "    </tr>\n",
       "  </thead>\n",
       "  <tbody>\n",
       "    <tr>\n",
       "      <th>0</th>\n",
       "      <td>2017-11-13</td>\n",
       "      <td>51.789772</td>\n",
       "      <td>51.259472</td>\n",
       "      <td>51.676136</td>\n",
       "      <td>51.505684</td>\n",
       "      <td>2574634.0</td>\n",
       "      <td>42.139057</td>\n",
       "    </tr>\n",
       "    <tr>\n",
       "      <th>1</th>\n",
       "      <td>2017-11-14</td>\n",
       "      <td>51.543560</td>\n",
       "      <td>50.899620</td>\n",
       "      <td>50.946972</td>\n",
       "      <td>51.448864</td>\n",
       "      <td>1984541.0</td>\n",
       "      <td>42.484375</td>\n",
       "    </tr>\n",
       "    <tr>\n",
       "      <th>2</th>\n",
       "      <td>2017-11-15</td>\n",
       "      <td>51.571972</td>\n",
       "      <td>50.284092</td>\n",
       "      <td>51.107956</td>\n",
       "      <td>51.032196</td>\n",
       "      <td>1943885.0</td>\n",
       "      <td>42.140308</td>\n",
       "    </tr>\n",
       "    <tr>\n",
       "      <th>3</th>\n",
       "      <td>2017-11-16</td>\n",
       "      <td>51.581440</td>\n",
       "      <td>50.880684</td>\n",
       "      <td>51.212120</td>\n",
       "      <td>51.202652</td>\n",
       "      <td>2093731.0</td>\n",
       "      <td>42.281055</td>\n",
       "    </tr>\n",
       "    <tr>\n",
       "      <th>4</th>\n",
       "      <td>2017-11-17</td>\n",
       "      <td>51.496212</td>\n",
       "      <td>50.852272</td>\n",
       "      <td>51.070076</td>\n",
       "      <td>51.335228</td>\n",
       "      <td>1319683.0</td>\n",
       "      <td>42.390541</td>\n",
       "    </tr>\n",
       "    <tr>\n",
       "      <th>...</th>\n",
       "      <td>...</td>\n",
       "      <td>...</td>\n",
       "      <td>...</td>\n",
       "      <td>...</td>\n",
       "      <td>...</td>\n",
       "      <td>...</td>\n",
       "      <td>...</td>\n",
       "    </tr>\n",
       "    <tr>\n",
       "      <th>1254</th>\n",
       "      <td>2022-11-07</td>\n",
       "      <td>33.889999</td>\n",
       "      <td>33.220001</td>\n",
       "      <td>33.770000</td>\n",
       "      <td>33.590000</td>\n",
       "      <td>2525600.0</td>\n",
       "      <td>33.590000</td>\n",
       "    </tr>\n",
       "    <tr>\n",
       "      <th>1255</th>\n",
       "      <td>2022-11-08</td>\n",
       "      <td>33.849998</td>\n",
       "      <td>33.240002</td>\n",
       "      <td>33.750000</td>\n",
       "      <td>33.520000</td>\n",
       "      <td>3139800.0</td>\n",
       "      <td>33.520000</td>\n",
       "    </tr>\n",
       "    <tr>\n",
       "      <th>1256</th>\n",
       "      <td>2022-11-09</td>\n",
       "      <td>33.580002</td>\n",
       "      <td>33.060001</td>\n",
       "      <td>33.250000</td>\n",
       "      <td>33.220001</td>\n",
       "      <td>3172000.0</td>\n",
       "      <td>33.220001</td>\n",
       "    </tr>\n",
       "    <tr>\n",
       "      <th>1257</th>\n",
       "      <td>2022-11-10</td>\n",
       "      <td>35.160000</td>\n",
       "      <td>33.759998</td>\n",
       "      <td>34.090000</td>\n",
       "      <td>35.139999</td>\n",
       "      <td>4051600.0</td>\n",
       "      <td>35.139999</td>\n",
       "    </tr>\n",
       "    <tr>\n",
       "      <th>1258</th>\n",
       "      <td>2022-11-11</td>\n",
       "      <td>36.869999</td>\n",
       "      <td>35.189999</td>\n",
       "      <td>35.509998</td>\n",
       "      <td>36.630001</td>\n",
       "      <td>5183500.0</td>\n",
       "      <td>36.630001</td>\n",
       "    </tr>\n",
       "  </tbody>\n",
       "</table>\n",
       "<p>1259 rows × 7 columns</p>\n",
       "</div>"
      ],
      "text/plain": [
       "            Date       High        Low       Open      Close     Volume  \\\n",
       "0     2017-11-13  51.789772  51.259472  51.676136  51.505684  2574634.0   \n",
       "1     2017-11-14  51.543560  50.899620  50.946972  51.448864  1984541.0   \n",
       "2     2017-11-15  51.571972  50.284092  51.107956  51.032196  1943885.0   \n",
       "3     2017-11-16  51.581440  50.880684  51.212120  51.202652  2093731.0   \n",
       "4     2017-11-17  51.496212  50.852272  51.070076  51.335228  1319683.0   \n",
       "...          ...        ...        ...        ...        ...        ...   \n",
       "1254  2022-11-07  33.889999  33.220001  33.770000  33.590000  2525600.0   \n",
       "1255  2022-11-08  33.849998  33.240002  33.750000  33.520000  3139800.0   \n",
       "1256  2022-11-09  33.580002  33.060001  33.250000  33.220001  3172000.0   \n",
       "1257  2022-11-10  35.160000  33.759998  34.090000  35.139999  4051600.0   \n",
       "1258  2022-11-11  36.869999  35.189999  35.509998  36.630001  5183500.0   \n",
       "\n",
       "      Adj Close  \n",
       "0     42.139057  \n",
       "1     42.484375  \n",
       "2     42.140308  \n",
       "3     42.281055  \n",
       "4     42.390541  \n",
       "...         ...  \n",
       "1254  33.590000  \n",
       "1255  33.520000  \n",
       "1256  33.220001  \n",
       "1257  35.139999  \n",
       "1258  36.630001  \n",
       "\n",
       "[1259 rows x 7 columns]"
      ]
     },
     "execution_count": 14,
     "metadata": {},
     "output_type": "execute_result"
    }
   ],
   "source": [
    "IP"
   ]
  },
  {
   "cell_type": "code",
   "execution_count": 15,
   "id": "d8309f10",
   "metadata": {},
   "outputs": [
    {
     "data": {
      "text/html": [
       "<div>\n",
       "<style scoped>\n",
       "    .dataframe tbody tr th:only-of-type {\n",
       "        vertical-align: middle;\n",
       "    }\n",
       "\n",
       "    .dataframe tbody tr th {\n",
       "        vertical-align: top;\n",
       "    }\n",
       "\n",
       "    .dataframe thead th {\n",
       "        text-align: right;\n",
       "    }\n",
       "</style>\n",
       "<table border=\"1\" class=\"dataframe\">\n",
       "  <thead>\n",
       "    <tr style=\"text-align: right;\">\n",
       "      <th></th>\n",
       "      <th>Date</th>\n",
       "      <th>High</th>\n",
       "      <th>Low</th>\n",
       "      <th>Open</th>\n",
       "      <th>Close</th>\n",
       "      <th>Volume</th>\n",
       "      <th>Adj Close</th>\n",
       "    </tr>\n",
       "  </thead>\n",
       "  <tbody>\n",
       "    <tr>\n",
       "      <th>0</th>\n",
       "      <td>2017-11-13</td>\n",
       "      <td>159.770004</td>\n",
       "      <td>155.770004</td>\n",
       "      <td>156.259995</td>\n",
       "      <td>159.440002</td>\n",
       "      <td>1092800.0</td>\n",
       "      <td>140.850342</td>\n",
       "    </tr>\n",
       "    <tr>\n",
       "      <th>1</th>\n",
       "      <td>2017-11-14</td>\n",
       "      <td>161.190002</td>\n",
       "      <td>158.580002</td>\n",
       "      <td>158.580002</td>\n",
       "      <td>160.710007</td>\n",
       "      <td>505400.0</td>\n",
       "      <td>141.972275</td>\n",
       "    </tr>\n",
       "    <tr>\n",
       "      <th>2</th>\n",
       "      <td>2017-11-15</td>\n",
       "      <td>161.729996</td>\n",
       "      <td>158.990005</td>\n",
       "      <td>159.809998</td>\n",
       "      <td>161.220001</td>\n",
       "      <td>589400.0</td>\n",
       "      <td>142.422806</td>\n",
       "    </tr>\n",
       "    <tr>\n",
       "      <th>3</th>\n",
       "      <td>2017-11-16</td>\n",
       "      <td>162.779999</td>\n",
       "      <td>159.750000</td>\n",
       "      <td>161.729996</td>\n",
       "      <td>159.869995</td>\n",
       "      <td>514500.0</td>\n",
       "      <td>141.230194</td>\n",
       "    </tr>\n",
       "    <tr>\n",
       "      <th>4</th>\n",
       "      <td>2017-11-17</td>\n",
       "      <td>161.320007</td>\n",
       "      <td>158.289993</td>\n",
       "      <td>158.940002</td>\n",
       "      <td>160.570007</td>\n",
       "      <td>371400.0</td>\n",
       "      <td>141.848572</td>\n",
       "    </tr>\n",
       "    <tr>\n",
       "      <th>...</th>\n",
       "      <td>...</td>\n",
       "      <td>...</td>\n",
       "      <td>...</td>\n",
       "      <td>...</td>\n",
       "      <td>...</td>\n",
       "      <td>...</td>\n",
       "      <td>...</td>\n",
       "    </tr>\n",
       "    <tr>\n",
       "      <th>1254</th>\n",
       "      <td>2022-11-07</td>\n",
       "      <td>169.179993</td>\n",
       "      <td>166.300003</td>\n",
       "      <td>168.509995</td>\n",
       "      <td>168.970001</td>\n",
       "      <td>1019600.0</td>\n",
       "      <td>168.970001</td>\n",
       "    </tr>\n",
       "    <tr>\n",
       "      <th>1255</th>\n",
       "      <td>2022-11-08</td>\n",
       "      <td>171.839996</td>\n",
       "      <td>168.179993</td>\n",
       "      <td>168.740005</td>\n",
       "      <td>170.479996</td>\n",
       "      <td>980500.0</td>\n",
       "      <td>170.479996</td>\n",
       "    </tr>\n",
       "    <tr>\n",
       "      <th>1256</th>\n",
       "      <td>2022-11-09</td>\n",
       "      <td>170.279999</td>\n",
       "      <td>165.830002</td>\n",
       "      <td>169.169998</td>\n",
       "      <td>165.940002</td>\n",
       "      <td>991200.0</td>\n",
       "      <td>165.940002</td>\n",
       "    </tr>\n",
       "    <tr>\n",
       "      <th>1257</th>\n",
       "      <td>2022-11-10</td>\n",
       "      <td>171.449997</td>\n",
       "      <td>167.059998</td>\n",
       "      <td>169.830002</td>\n",
       "      <td>170.190002</td>\n",
       "      <td>1332500.0</td>\n",
       "      <td>170.190002</td>\n",
       "    </tr>\n",
       "    <tr>\n",
       "      <th>1258</th>\n",
       "      <td>2022-11-11</td>\n",
       "      <td>171.589996</td>\n",
       "      <td>163.850006</td>\n",
       "      <td>171.309998</td>\n",
       "      <td>166.199997</td>\n",
       "      <td>2264100.0</td>\n",
       "      <td>166.199997</td>\n",
       "    </tr>\n",
       "  </tbody>\n",
       "</table>\n",
       "<p>1259 rows × 7 columns</p>\n",
       "</div>"
      ],
      "text/plain": [
       "            Date        High         Low        Open       Close     Volume  \\\n",
       "0     2017-11-13  159.770004  155.770004  156.259995  159.440002  1092800.0   \n",
       "1     2017-11-14  161.190002  158.580002  158.580002  160.710007   505400.0   \n",
       "2     2017-11-15  161.729996  158.990005  159.809998  161.220001   589400.0   \n",
       "3     2017-11-16  162.779999  159.750000  161.729996  159.869995   514500.0   \n",
       "4     2017-11-17  161.320007  158.289993  158.940002  160.570007   371400.0   \n",
       "...          ...         ...         ...         ...         ...        ...   \n",
       "1254  2022-11-07  169.179993  166.300003  168.509995  168.970001  1019600.0   \n",
       "1255  2022-11-08  171.839996  168.179993  168.740005  170.479996   980500.0   \n",
       "1256  2022-11-09  170.279999  165.830002  169.169998  165.940002   991200.0   \n",
       "1257  2022-11-10  171.449997  167.059998  169.830002  170.190002  1332500.0   \n",
       "1258  2022-11-11  171.589996  163.850006  171.309998  166.199997  2264100.0   \n",
       "\n",
       "       Adj Close  \n",
       "0     140.850342  \n",
       "1     141.972275  \n",
       "2     142.422806  \n",
       "3     141.230194  \n",
       "4     141.848572  \n",
       "...          ...  \n",
       "1254  168.970001  \n",
       "1255  170.479996  \n",
       "1256  165.940002  \n",
       "1257  170.190002  \n",
       "1258  166.199997  \n",
       "\n",
       "[1259 rows x 7 columns]"
      ]
     },
     "execution_count": 15,
     "metadata": {},
     "output_type": "execute_result"
    }
   ],
   "source": [
    "MTB"
   ]
  },
  {
   "cell_type": "code",
   "execution_count": 76,
   "id": "7480e48b",
   "metadata": {},
   "outputs": [
    {
     "data": {
      "text/html": [
       "<div>\n",
       "<style scoped>\n",
       "    .dataframe tbody tr th:only-of-type {\n",
       "        vertical-align: middle;\n",
       "    }\n",
       "\n",
       "    .dataframe tbody tr th {\n",
       "        vertical-align: top;\n",
       "    }\n",
       "\n",
       "    .dataframe thead th {\n",
       "        text-align: right;\n",
       "    }\n",
       "</style>\n",
       "<table border=\"1\" class=\"dataframe\">\n",
       "  <thead>\n",
       "    <tr style=\"text-align: right;\">\n",
       "      <th></th>\n",
       "      <th></th>\n",
       "      <th>Date</th>\n",
       "      <th>High</th>\n",
       "      <th>Low</th>\n",
       "      <th>Open</th>\n",
       "      <th>Close</th>\n",
       "      <th>Volume</th>\n",
       "      <th>Adj Close</th>\n",
       "    </tr>\n",
       "  </thead>\n",
       "  <tbody>\n",
       "    <tr>\n",
       "      <th rowspan=\"5\" valign=\"top\">CPRT</th>\n",
       "      <th>0</th>\n",
       "      <td>2017-11-13</td>\n",
       "      <td>17.995001</td>\n",
       "      <td>17.850000</td>\n",
       "      <td>17.885000</td>\n",
       "      <td>17.940001</td>\n",
       "      <td>1173800.0</td>\n",
       "      <td>17.940001</td>\n",
       "    </tr>\n",
       "    <tr>\n",
       "      <th>1</th>\n",
       "      <td>2017-11-14</td>\n",
       "      <td>18.000000</td>\n",
       "      <td>17.825001</td>\n",
       "      <td>17.860001</td>\n",
       "      <td>17.940001</td>\n",
       "      <td>1121200.0</td>\n",
       "      <td>17.940001</td>\n",
       "    </tr>\n",
       "    <tr>\n",
       "      <th>2</th>\n",
       "      <td>2017-11-15</td>\n",
       "      <td>18.040001</td>\n",
       "      <td>17.820000</td>\n",
       "      <td>17.905001</td>\n",
       "      <td>17.975000</td>\n",
       "      <td>1366000.0</td>\n",
       "      <td>17.975000</td>\n",
       "    </tr>\n",
       "    <tr>\n",
       "      <th>3</th>\n",
       "      <td>2017-11-16</td>\n",
       "      <td>18.040001</td>\n",
       "      <td>17.915001</td>\n",
       "      <td>18.014999</td>\n",
       "      <td>17.969999</td>\n",
       "      <td>2217800.0</td>\n",
       "      <td>17.969999</td>\n",
       "    </tr>\n",
       "    <tr>\n",
       "      <th>4</th>\n",
       "      <td>2017-11-17</td>\n",
       "      <td>17.945000</td>\n",
       "      <td>17.719999</td>\n",
       "      <td>17.945000</td>\n",
       "      <td>17.775000</td>\n",
       "      <td>2589600.0</td>\n",
       "      <td>17.775000</td>\n",
       "    </tr>\n",
       "    <tr>\n",
       "      <th>...</th>\n",
       "      <th>...</th>\n",
       "      <td>...</td>\n",
       "      <td>...</td>\n",
       "      <td>...</td>\n",
       "      <td>...</td>\n",
       "      <td>...</td>\n",
       "      <td>...</td>\n",
       "      <td>...</td>\n",
       "    </tr>\n",
       "    <tr>\n",
       "      <th rowspan=\"5\" valign=\"top\">MTB</th>\n",
       "      <th>1254</th>\n",
       "      <td>2022-11-07</td>\n",
       "      <td>169.179993</td>\n",
       "      <td>166.300003</td>\n",
       "      <td>168.509995</td>\n",
       "      <td>168.970001</td>\n",
       "      <td>1019600.0</td>\n",
       "      <td>168.970001</td>\n",
       "    </tr>\n",
       "    <tr>\n",
       "      <th>1255</th>\n",
       "      <td>2022-11-08</td>\n",
       "      <td>171.839996</td>\n",
       "      <td>168.179993</td>\n",
       "      <td>168.740005</td>\n",
       "      <td>170.479996</td>\n",
       "      <td>980500.0</td>\n",
       "      <td>170.479996</td>\n",
       "    </tr>\n",
       "    <tr>\n",
       "      <th>1256</th>\n",
       "      <td>2022-11-09</td>\n",
       "      <td>170.279999</td>\n",
       "      <td>165.830002</td>\n",
       "      <td>169.169998</td>\n",
       "      <td>165.940002</td>\n",
       "      <td>991200.0</td>\n",
       "      <td>165.940002</td>\n",
       "    </tr>\n",
       "    <tr>\n",
       "      <th>1257</th>\n",
       "      <td>2022-11-10</td>\n",
       "      <td>171.449997</td>\n",
       "      <td>167.059998</td>\n",
       "      <td>169.830002</td>\n",
       "      <td>170.190002</td>\n",
       "      <td>1332500.0</td>\n",
       "      <td>170.190002</td>\n",
       "    </tr>\n",
       "    <tr>\n",
       "      <th>1258</th>\n",
       "      <td>2022-11-11</td>\n",
       "      <td>171.589996</td>\n",
       "      <td>163.850006</td>\n",
       "      <td>171.309998</td>\n",
       "      <td>166.199997</td>\n",
       "      <td>2264100.0</td>\n",
       "      <td>166.199997</td>\n",
       "    </tr>\n",
       "  </tbody>\n",
       "</table>\n",
       "<p>5035 rows × 7 columns</p>\n",
       "</div>"
      ],
      "text/plain": [
       "                 Date        High         Low        Open       Close  \\\n",
       "CPRT 0     2017-11-13   17.995001   17.850000   17.885000   17.940001   \n",
       "     1     2017-11-14   18.000000   17.825001   17.860001   17.940001   \n",
       "     2     2017-11-15   18.040001   17.820000   17.905001   17.975000   \n",
       "     3     2017-11-16   18.040001   17.915001   18.014999   17.969999   \n",
       "     4     2017-11-17   17.945000   17.719999   17.945000   17.775000   \n",
       "...               ...         ...         ...         ...         ...   \n",
       "MTB  1254  2022-11-07  169.179993  166.300003  168.509995  168.970001   \n",
       "     1255  2022-11-08  171.839996  168.179993  168.740005  170.479996   \n",
       "     1256  2022-11-09  170.279999  165.830002  169.169998  165.940002   \n",
       "     1257  2022-11-10  171.449997  167.059998  169.830002  170.190002   \n",
       "     1258  2022-11-11  171.589996  163.850006  171.309998  166.199997   \n",
       "\n",
       "              Volume   Adj Close  \n",
       "CPRT 0     1173800.0   17.940001  \n",
       "     1     1121200.0   17.940001  \n",
       "     2     1366000.0   17.975000  \n",
       "     3     2217800.0   17.969999  \n",
       "     4     2589600.0   17.775000  \n",
       "...              ...         ...  \n",
       "MTB  1254  1019600.0  168.970001  \n",
       "     1255   980500.0  170.479996  \n",
       "     1256   991200.0  165.940002  \n",
       "     1257  1332500.0  170.190002  \n",
       "     1258  2264100.0  166.199997  \n",
       "\n",
       "[5035 rows x 7 columns]"
      ]
     },
     "execution_count": 76,
     "metadata": {},
     "output_type": "execute_result"
    }
   ],
   "source": [
    "frames = [CPRT, HIG, IP, MTB]\n",
    "\n",
    "result = pd.concat(frames)\n",
    "\n",
    "result = pd.concat(frames, keys=[\"CPRT\", \"HIG\", \"IP\", \"MTB\"])\n",
    "result"
   ]
  },
  {
   "cell_type": "code",
   "execution_count": 28,
   "id": "a632ef92",
   "metadata": {},
   "outputs": [
    {
     "data": {
      "text/plain": [
       "CPRT  0       True\n",
       "      1       True\n",
       "      2       True\n",
       "      3       True\n",
       "      4       True\n",
       "              ... \n",
       "MTB   1254    True\n",
       "      1255    True\n",
       "      1256    True\n",
       "      1257    True\n",
       "      1258    True\n",
       "Length: 5035, dtype: bool"
      ]
     },
     "execution_count": 28,
     "metadata": {},
     "output_type": "execute_result"
    }
   ],
   "source": [
    "result['Close']==result['Adj Close']\n",
    "# There no difference between Close and Adj Close column\n",
    "# While the closing price simply refers to the value of the stock at the end of the day, the adjusted closing price takes into account other factors such as dividends, stock splits, and the placement of new shares. Since the adjusted closing price starts where the closing price ends, it can be called a more accurate indicator of the value of shares."
   ]
  },
  {
   "cell_type": "code",
   "execution_count": 31,
   "id": "83052514",
   "metadata": {},
   "outputs": [
    {
     "data": {
      "text/plain": [
       "191.41000366210935"
      ]
     },
     "execution_count": 31,
     "metadata": {},
     "output_type": "execute_result"
    }
   ],
   "source": [
    "result['Adj Close'].max()"
   ]
  },
  {
   "cell_type": "code",
   "execution_count": 32,
   "id": "48eb3155",
   "metadata": {},
   "outputs": [
    {
     "data": {
      "text/plain": [
       "79.55000305175781"
      ]
     },
     "execution_count": 32,
     "metadata": {},
     "output_type": "execute_result"
    }
   ],
   "source": [
    "CPRT['Adj Close'].max()"
   ]
  },
  {
   "cell_type": "code",
   "execution_count": 34,
   "id": "8499a4b4",
   "metadata": {},
   "outputs": [
    {
     "data": {
      "text/plain": [
       "17.774999618530273"
      ]
     },
     "execution_count": 34,
     "metadata": {},
     "output_type": "execute_result"
    }
   ],
   "source": [
    "CPRT['Adj Close'].min()"
   ]
  },
  {
   "cell_type": "code",
   "execution_count": 59,
   "id": "31e9738a",
   "metadata": {},
   "outputs": [
    {
     "data": {
      "text/plain": [
       "46.11088633423579"
      ]
     },
     "execution_count": 59,
     "metadata": {},
     "output_type": "execute_result"
    }
   ],
   "source": [
    "CPRT['Adj Close'].mean()"
   ]
  },
  {
   "cell_type": "code",
   "execution_count": 60,
   "id": "59b94d27",
   "metadata": {},
   "outputs": [
    {
     "data": {
      "text/plain": [
       "44.977500915527344"
      ]
     },
     "execution_count": 60,
     "metadata": {},
     "output_type": "execute_result"
    }
   ],
   "source": [
    "CPRT['Adj Close'].median()"
   ]
  },
  {
   "cell_type": "code",
   "execution_count": 35,
   "id": "28a2f233",
   "metadata": {},
   "outputs": [
    {
     "data": {
      "text/plain": [
       "75.3499984741211"
      ]
     },
     "execution_count": 35,
     "metadata": {},
     "output_type": "execute_result"
    }
   ],
   "source": [
    "HIG['Adj Close'].max()"
   ]
  },
  {
   "cell_type": "code",
   "execution_count": 36,
   "id": "ec901626",
   "metadata": {},
   "outputs": [
    {
     "data": {
      "text/plain": [
       "24.926820755004883"
      ]
     },
     "execution_count": 36,
     "metadata": {},
     "output_type": "execute_result"
    }
   ],
   "source": [
    "HIG['Adj Close'].min()"
   ]
  },
  {
   "cell_type": "code",
   "execution_count": 61,
   "id": "11049604",
   "metadata": {},
   "outputs": [
    {
     "data": {
      "text/plain": [
       "53.60467561717257"
      ]
     },
     "execution_count": 61,
     "metadata": {},
     "output_type": "execute_result"
    }
   ],
   "source": [
    "HIG['Adj Close'].mean()"
   ]
  },
  {
   "cell_type": "code",
   "execution_count": 62,
   "id": "19a8cb80",
   "metadata": {},
   "outputs": [
    {
     "data": {
      "text/plain": [
       "51.01893615722656"
      ]
     },
     "execution_count": 62,
     "metadata": {},
     "output_type": "execute_result"
    }
   ],
   "source": [
    "HIG['Adj Close'].median()"
   ]
  },
  {
   "cell_type": "code",
   "execution_count": 37,
   "id": "4a6d29f7",
   "metadata": {},
   "outputs": [
    {
     "data": {
      "text/plain": [
       "59.512168884277344"
      ]
     },
     "execution_count": 37,
     "metadata": {},
     "output_type": "execute_result"
    }
   ],
   "source": [
    "IP['Adj Close'].max()"
   ]
  },
  {
   "cell_type": "code",
   "execution_count": 38,
   "id": "44ef839a",
   "metadata": {},
   "outputs": [
    {
     "data": {
      "text/plain": [
       "22.884174346923828"
      ]
     },
     "execution_count": 38,
     "metadata": {},
     "output_type": "execute_result"
    }
   ],
   "source": [
    "IP['Adj Close'].min()"
   ]
  },
  {
   "cell_type": "code",
   "execution_count": 63,
   "id": "1fdee898",
   "metadata": {},
   "outputs": [
    {
     "data": {
      "text/plain": [
       "41.39267426658188"
      ]
     },
     "execution_count": 63,
     "metadata": {},
     "output_type": "execute_result"
    }
   ],
   "source": [
    "IP['Adj Close'].mean()"
   ]
  },
  {
   "cell_type": "code",
   "execution_count": 64,
   "id": "1cce0051",
   "metadata": {},
   "outputs": [
    {
     "data": {
      "text/plain": [
       "41.61000061035156"
      ]
     },
     "execution_count": 64,
     "metadata": {},
     "output_type": "execute_result"
    }
   ],
   "source": [
    "IP['Adj Close'].median()"
   ]
  },
  {
   "cell_type": "code",
   "execution_count": 39,
   "id": "690a537b",
   "metadata": {},
   "outputs": [
    {
     "data": {
      "text/plain": [
       "191.41000366210935"
      ]
     },
     "execution_count": 39,
     "metadata": {},
     "output_type": "execute_result"
    }
   ],
   "source": [
    "MTB['Adj Close'].max()"
   ]
  },
  {
   "cell_type": "code",
   "execution_count": 40,
   "id": "43926033",
   "metadata": {},
   "outputs": [
    {
     "data": {
      "text/plain": [
       "82.45121765136719"
      ]
     },
     "execution_count": 40,
     "metadata": {},
     "output_type": "execute_result"
    }
   ],
   "source": [
    "MTB['Adj Close'].min()"
   ]
  },
  {
   "cell_type": "code",
   "execution_count": 65,
   "id": "a1681e09",
   "metadata": {},
   "outputs": [
    {
     "data": {
      "text/plain": [
       "146.1790916921602"
      ]
     },
     "execution_count": 65,
     "metadata": {},
     "output_type": "execute_result"
    }
   ],
   "source": [
    "MTB['Adj Close'].mean()"
   ]
  },
  {
   "cell_type": "code",
   "execution_count": 66,
   "id": "cc6dced6",
   "metadata": {},
   "outputs": [
    {
     "data": {
      "text/plain": [
       "151.56175231933594"
      ]
     },
     "execution_count": 66,
     "metadata": {},
     "output_type": "execute_result"
    }
   ],
   "source": [
    "MTB['Adj Close'].median()"
   ]
  },
  {
   "cell_type": "code",
   "execution_count": 79,
   "id": "59f862af",
   "metadata": {},
   "outputs": [
    {
     "data": {
      "text/plain": [
       "-0.11499977111816051"
      ]
     },
     "execution_count": 79,
     "metadata": {},
     "output_type": "execute_result"
    }
   ],
   "source": [
    "#Instead of idxmax\n",
    "CPRTw = CPRT['Low']-CPRT['High']\n",
    "CPRTw.max()"
   ]
  },
  {
   "cell_type": "code",
   "execution_count": 87,
   "id": "8bcf7b64",
   "metadata": {},
   "outputs": [
    {
     "data": {
      "text/html": [
       "<div>\n",
       "<style scoped>\n",
       "    .dataframe tbody tr th:only-of-type {\n",
       "        vertical-align: middle;\n",
       "    }\n",
       "\n",
       "    .dataframe tbody tr th {\n",
       "        vertical-align: top;\n",
       "    }\n",
       "\n",
       "    .dataframe thead th {\n",
       "        text-align: right;\n",
       "    }\n",
       "</style>\n",
       "<table border=\"1\" class=\"dataframe\">\n",
       "  <thead>\n",
       "    <tr style=\"text-align: right;\">\n",
       "      <th></th>\n",
       "      <th>Date</th>\n",
       "      <th>High</th>\n",
       "      <th>Low</th>\n",
       "    </tr>\n",
       "  </thead>\n",
       "  <tbody>\n",
       "    <tr>\n",
       "      <th>28</th>\n",
       "      <td>2017-12-22</td>\n",
       "      <td>21.735001</td>\n",
       "      <td>21.620001</td>\n",
       "    </tr>\n",
       "  </tbody>\n",
       "</table>\n",
       "</div>"
      ],
      "text/plain": [
       "          Date       High        Low\n",
       "28  2017-12-22  21.735001  21.620001"
      ]
     },
     "execution_count": 87,
     "metadata": {},
     "output_type": "execute_result"
    }
   ],
   "source": [
    "e = CPRT.drop(CPRT.columns[[3,4,5,6]], axis=1)\n",
    "e[CPRTw==CPRTw.max()]"
   ]
  },
  {
   "cell_type": "code",
   "execution_count": 81,
   "id": "d02c2eef",
   "metadata": {},
   "outputs": [
    {
     "data": {
      "text/plain": [
       "-0.25"
      ]
     },
     "execution_count": 81,
     "metadata": {},
     "output_type": "execute_result"
    }
   ],
   "source": [
    "HIGw = HIG['Low']-HIG['High']\n",
    "HIGw.max()"
   ]
  },
  {
   "cell_type": "code",
   "execution_count": 86,
   "id": "ef53cbcf",
   "metadata": {},
   "outputs": [
    {
     "data": {
      "text/html": [
       "<div>\n",
       "<style scoped>\n",
       "    .dataframe tbody tr th:only-of-type {\n",
       "        vertical-align: middle;\n",
       "    }\n",
       "\n",
       "    .dataframe tbody tr th {\n",
       "        vertical-align: top;\n",
       "    }\n",
       "\n",
       "    .dataframe thead th {\n",
       "        text-align: right;\n",
       "    }\n",
       "</style>\n",
       "<table border=\"1\" class=\"dataframe\">\n",
       "  <thead>\n",
       "    <tr style=\"text-align: right;\">\n",
       "      <th></th>\n",
       "      <th>Date</th>\n",
       "      <th>High</th>\n",
       "      <th>Low</th>\n",
       "    </tr>\n",
       "  </thead>\n",
       "  <tbody>\n",
       "    <tr>\n",
       "      <th>531</th>\n",
       "      <td>2019-12-24</td>\n",
       "      <td>60.18</td>\n",
       "      <td>59.93</td>\n",
       "    </tr>\n",
       "  </tbody>\n",
       "</table>\n",
       "</div>"
      ],
      "text/plain": [
       "           Date   High    Low\n",
       "531  2019-12-24  60.18  59.93"
      ]
     },
     "execution_count": 86,
     "metadata": {},
     "output_type": "execute_result"
    }
   ],
   "source": [
    "c = HIG.drop(HIG.columns[[3,4,5,6]], axis=1)\n",
    "c[HIGw==HIGw.max()]"
   ]
  },
  {
   "cell_type": "code",
   "execution_count": 83,
   "id": "92843a7c",
   "metadata": {},
   "outputs": [
    {
     "data": {
      "text/plain": [
       "5.691516876220703"
      ]
     },
     "execution_count": 83,
     "metadata": {},
     "output_type": "execute_result"
    }
   ],
   "source": [
    "IPw = IP['Low']-HIG['High']\n",
    "IPw.max()"
   ]
  },
  {
   "cell_type": "code",
   "execution_count": 88,
   "id": "94018981",
   "metadata": {},
   "outputs": [
    {
     "data": {
      "text/html": [
       "<div>\n",
       "<style scoped>\n",
       "    .dataframe tbody tr th:only-of-type {\n",
       "        vertical-align: middle;\n",
       "    }\n",
       "\n",
       "    .dataframe tbody tr th {\n",
       "        vertical-align: top;\n",
       "    }\n",
       "\n",
       "    .dataframe thead th {\n",
       "        text-align: right;\n",
       "    }\n",
       "</style>\n",
       "<table border=\"1\" class=\"dataframe\">\n",
       "  <thead>\n",
       "    <tr style=\"text-align: right;\">\n",
       "      <th></th>\n",
       "      <th>Date</th>\n",
       "      <th>High</th>\n",
       "      <th>Low</th>\n",
       "    </tr>\n",
       "  </thead>\n",
       "  <tbody>\n",
       "    <tr>\n",
       "      <th>737</th>\n",
       "      <td>2020-10-19</td>\n",
       "      <td>44.535984</td>\n",
       "      <td>43.901516</td>\n",
       "    </tr>\n",
       "  </tbody>\n",
       "</table>\n",
       "</div>"
      ],
      "text/plain": [
       "           Date       High        Low\n",
       "737  2020-10-19  44.535984  43.901516"
      ]
     },
     "execution_count": 88,
     "metadata": {},
     "output_type": "execute_result"
    }
   ],
   "source": [
    "w = IP.drop(IP.columns[[3,4,5,6]], axis=1)\n",
    "w[IPw==IPw.max()]"
   ]
  },
  {
   "cell_type": "code",
   "execution_count": 85,
   "id": "ad26f8a2",
   "metadata": {},
   "outputs": [
    {
     "data": {
      "text/plain": [
       "-1.05999755859375"
      ]
     },
     "execution_count": 85,
     "metadata": {},
     "output_type": "execute_result"
    }
   ],
   "source": [
    "MTBw = MTB['Low']-MTB['High']\n",
    "MTBw.max()"
   ]
  },
  {
   "cell_type": "code",
   "execution_count": 89,
   "id": "123eac72",
   "metadata": {},
   "outputs": [
    {
     "data": {
      "text/html": [
       "<div>\n",
       "<style scoped>\n",
       "    .dataframe tbody tr th:only-of-type {\n",
       "        vertical-align: middle;\n",
       "    }\n",
       "\n",
       "    .dataframe tbody tr th {\n",
       "        vertical-align: top;\n",
       "    }\n",
       "\n",
       "    .dataframe thead th {\n",
       "        text-align: right;\n",
       "    }\n",
       "</style>\n",
       "<table border=\"1\" class=\"dataframe\">\n",
       "  <thead>\n",
       "    <tr style=\"text-align: right;\">\n",
       "      <th></th>\n",
       "      <th>Date</th>\n",
       "      <th>High</th>\n",
       "      <th>Low</th>\n",
       "    </tr>\n",
       "  </thead>\n",
       "  <tbody>\n",
       "    <tr>\n",
       "      <th>31</th>\n",
       "      <td>2017-12-28</td>\n",
       "      <td>172.330002</td>\n",
       "      <td>171.270004</td>\n",
       "    </tr>\n",
       "  </tbody>\n",
       "</table>\n",
       "</div>"
      ],
      "text/plain": [
       "          Date        High         Low\n",
       "31  2017-12-28  172.330002  171.270004"
      ]
     },
     "execution_count": 89,
     "metadata": {},
     "output_type": "execute_result"
    }
   ],
   "source": [
    "p = MTB.drop(MTB.columns[[3,4,5,6]], axis=1)\n",
    "p[MTBw==MTBw.max()]"
   ]
  },
  {
   "cell_type": "code",
   "execution_count": 100,
   "id": "13aa53d2",
   "metadata": {},
   "outputs": [
    {
     "name": "stderr",
     "output_type": "stream",
     "text": [
      "C:\\Users\\Дастан\\AppData\\Local\\Temp\\ipykernel_4588\\1714301236.py:3: FutureWarning: Dropping invalid columns in DataFrameGroupBy.mean is deprecated. In a future version, a TypeError will be raised. Before calling .mean, select only columns which should be valid for the function.\n",
      "  tt = CPRTa.groupby([pd.Grouper(key='Datetime', freq=\"7d\"),'Volume']).mean()\n"
     ]
    },
    {
     "data": {
      "text/html": [
       "<div>\n",
       "<style scoped>\n",
       "    .dataframe tbody tr th:only-of-type {\n",
       "        vertical-align: middle;\n",
       "    }\n",
       "\n",
       "    .dataframe tbody tr th {\n",
       "        vertical-align: top;\n",
       "    }\n",
       "\n",
       "    .dataframe thead th {\n",
       "        text-align: right;\n",
       "    }\n",
       "</style>\n",
       "<table border=\"1\" class=\"dataframe\">\n",
       "  <thead>\n",
       "    <tr style=\"text-align: right;\">\n",
       "      <th></th>\n",
       "      <th></th>\n",
       "    </tr>\n",
       "    <tr>\n",
       "      <th>Datetime</th>\n",
       "      <th>Volume</th>\n",
       "    </tr>\n",
       "  </thead>\n",
       "  <tbody>\n",
       "    <tr>\n",
       "      <th rowspan=\"5\" valign=\"top\">2017-11-13</th>\n",
       "      <th>1121200.0</th>\n",
       "    </tr>\n",
       "    <tr>\n",
       "      <th>1173800.0</th>\n",
       "    </tr>\n",
       "    <tr>\n",
       "      <th>1366000.0</th>\n",
       "    </tr>\n",
       "    <tr>\n",
       "      <th>2217800.0</th>\n",
       "    </tr>\n",
       "    <tr>\n",
       "      <th>2589600.0</th>\n",
       "    </tr>\n",
       "    <tr>\n",
       "      <th>...</th>\n",
       "      <th>...</th>\n",
       "    </tr>\n",
       "    <tr>\n",
       "      <th>2022-10-31</th>\n",
       "      <th>2125600.0</th>\n",
       "    </tr>\n",
       "    <tr>\n",
       "      <th rowspan=\"4\" valign=\"top\">2022-11-07</th>\n",
       "      <th>1938900.0</th>\n",
       "    </tr>\n",
       "    <tr>\n",
       "      <th>2449400.0</th>\n",
       "    </tr>\n",
       "    <tr>\n",
       "      <th>3284900.0</th>\n",
       "    </tr>\n",
       "    <tr>\n",
       "      <th>3288300.0</th>\n",
       "    </tr>\n",
       "  </tbody>\n",
       "</table>\n",
       "<p>1258 rows × 0 columns</p>\n",
       "</div>"
      ],
      "text/plain": [
       "Empty DataFrame\n",
       "Columns: []\n",
       "Index: [(2017-11-13 00:00:00, 1121200.0), (2017-11-13 00:00:00, 1173800.0), (2017-11-13 00:00:00, 1366000.0), (2017-11-13 00:00:00, 2217800.0), (2017-11-13 00:00:00, 2589600.0), (2017-11-20 00:00:00, 2589800.0), (2017-11-20 00:00:00, 2667400.0), (2017-11-20 00:00:00, 3339800.0), (2017-11-20 00:00:00, 7599000.0), (2017-11-27 00:00:00, 3135000.0), (2017-11-27 00:00:00, 3139800.0), (2017-11-27 00:00:00, 3252000.0), (2017-11-27 00:00:00, 3282800.0), (2017-11-27 00:00:00, 3896200.0), (2017-12-04 00:00:00, 1806800.0), (2017-12-04 00:00:00, 2258400.0), (2017-12-04 00:00:00, 3043400.0), (2017-12-04 00:00:00, 3595800.0), (2017-12-04 00:00:00, 3796200.0), (2017-12-11 00:00:00, 1686200.0), (2017-12-11 00:00:00, 1715200.0), (2017-12-11 00:00:00, 2704600.0), (2017-12-11 00:00:00, 2745400.0), (2017-12-11 00:00:00, 3434400.0), (2017-12-18 00:00:00, 1985800.0), (2017-12-18 00:00:00, 1990400.0), (2017-12-18 00:00:00, 2330200.0), (2017-12-18 00:00:00, 2603200.0), (2017-12-18 00:00:00, 2641600.0), (2017-12-25 00:00:00, 1202400.0), (2017-12-25 00:00:00, 1628200.0), (2017-12-25 00:00:00, 1689400.0), (2017-12-25 00:00:00, 1847400.0), (2018-01-01 00:00:00, 1724000.0), (2018-01-01 00:00:00, 1849200.0), (2018-01-01 00:00:00, 2312800.0), (2018-01-01 00:00:00, 2336000.0), (2018-01-08 00:00:00, 1551200.0), (2018-01-08 00:00:00, 2055400.0), (2018-01-08 00:00:00, 2238800.0), (2018-01-08 00:00:00, 2252000.0), (2018-01-08 00:00:00, 2508400.0), (2018-01-15 00:00:00, 1333800.0), (2018-01-15 00:00:00, 1650600.0), (2018-01-15 00:00:00, 2543400.0), (2018-01-15 00:00:00, 2588200.0), (2018-01-22 00:00:00, 1050800.0), (2018-01-22 00:00:00, 1735800.0), (2018-01-22 00:00:00, 2062800.0), (2018-01-22 00:00:00, 2184400.0), (2018-01-22 00:00:00, 2187600.0), (2018-01-29 00:00:00, 1008800.0), (2018-01-29 00:00:00, 1522400.0), (2018-01-29 00:00:00, 1649000.0), (2018-01-29 00:00:00, 1756200.0), (2018-01-29 00:00:00, 2105000.0), (2018-02-05 00:00:00, 1400400.0), (2018-02-05 00:00:00, 2147800.0), (2018-02-05 00:00:00, 2556200.0), (2018-02-05 00:00:00, 2726200.0), (2018-02-05 00:00:00, 3294400.0), (2018-02-12 00:00:00, 2855400.0), (2018-02-12 00:00:00, 3069200.0), (2018-02-12 00:00:00, 3159400.0), (2018-02-12 00:00:00, 4187400.0), (2018-02-12 00:00:00, 4524600.0), (2018-02-19 00:00:00, 2882000.0), (2018-02-19 00:00:00, 3341800.0), (2018-02-19 00:00:00, 4268200.0), (2018-02-19 00:00:00, 7668000.0), (2018-02-26 00:00:00, 2723000.0), (2018-02-26 00:00:00, 2910000.0), (2018-02-26 00:00:00, 4379000.0), (2018-02-26 00:00:00, 4587200.0), (2018-02-26 00:00:00, 5925400.0), (2018-03-05 00:00:00, 2789800.0), (2018-03-05 00:00:00, 2821200.0), (2018-03-05 00:00:00, 3579200.0), (2018-03-05 00:00:00, 4261600.0), (2018-03-05 00:00:00, 6653600.0), (2018-03-12 00:00:00, 1710600.0), (2018-03-12 00:00:00, 2231000.0), (2018-03-12 00:00:00, 3315000.0), (2018-03-12 00:00:00, 3613600.0), (2018-03-12 00:00:00, 3659000.0), (2018-03-19 00:00:00, 1602000.0), (2018-03-19 00:00:00, 1676400.0), (2018-03-19 00:00:00, 1878200.0), (2018-03-19 00:00:00, 2068800.0), (2018-03-19 00:00:00, 2453400.0), (2018-03-26 00:00:00, 2184000.0), (2018-03-26 00:00:00, 2588000.0), (2018-03-26 00:00:00, 3186400.0), (2018-03-26 00:00:00, 3355800.0), (2018-04-02 00:00:00, 2004400.0), (2018-04-02 00:00:00, 2339200.0), (2018-04-02 00:00:00, 2387800.0), (2018-04-02 00:00:00, 3074800.0), (2018-04-02 00:00:00, 3155200.0), (2018-04-09 00:00:00, 1331600.0), ...]\n",
       "\n",
       "[1258 rows x 0 columns]"
      ]
     },
     "execution_count": 100,
     "metadata": {},
     "output_type": "execute_result"
    }
   ],
   "source": [
    "CPRTa=CPRT.drop(result.columns[[1,2,3,4,6]], axis=1)\n",
    "CPRTa['Datetime'] = pd.to_datetime(CPRT.Date)    \n",
    "tt = CPRTa.groupby([pd.Grouper(key='Datetime', freq=\"7d\"),'Volume']).mean()\n",
    "tt"
   ]
  },
  {
   "cell_type": "code",
   "execution_count": 101,
   "id": "602b3d71",
   "metadata": {},
   "outputs": [
    {
     "name": "stderr",
     "output_type": "stream",
     "text": [
      "C:\\Users\\Дастан\\AppData\\Local\\Temp\\ipykernel_4588\\483488842.py:3: FutureWarning: Dropping invalid columns in DataFrameGroupBy.mean is deprecated. In a future version, a TypeError will be raised. Before calling .mean, select only columns which should be valid for the function.\n",
      "  tt = HIGa.groupby([pd.Grouper(key='Datetime', freq=\"7d\"),'Volume']).mean()\n"
     ]
    },
    {
     "data": {
      "text/html": [
       "<div>\n",
       "<style scoped>\n",
       "    .dataframe tbody tr th:only-of-type {\n",
       "        vertical-align: middle;\n",
       "    }\n",
       "\n",
       "    .dataframe tbody tr th {\n",
       "        vertical-align: top;\n",
       "    }\n",
       "\n",
       "    .dataframe thead th {\n",
       "        text-align: right;\n",
       "    }\n",
       "</style>\n",
       "<table border=\"1\" class=\"dataframe\">\n",
       "  <thead>\n",
       "    <tr style=\"text-align: right;\">\n",
       "      <th></th>\n",
       "      <th></th>\n",
       "    </tr>\n",
       "    <tr>\n",
       "      <th>Datetime</th>\n",
       "      <th>Volume</th>\n",
       "    </tr>\n",
       "  </thead>\n",
       "  <tbody>\n",
       "    <tr>\n",
       "      <th rowspan=\"5\" valign=\"top\">2017-11-13</th>\n",
       "      <th>1443300.0</th>\n",
       "    </tr>\n",
       "    <tr>\n",
       "      <th>1721100.0</th>\n",
       "    </tr>\n",
       "    <tr>\n",
       "      <th>1820200.0</th>\n",
       "    </tr>\n",
       "    <tr>\n",
       "      <th>2145300.0</th>\n",
       "    </tr>\n",
       "    <tr>\n",
       "      <th>2386700.0</th>\n",
       "    </tr>\n",
       "    <tr>\n",
       "      <th>...</th>\n",
       "      <th>...</th>\n",
       "    </tr>\n",
       "    <tr>\n",
       "      <th rowspan=\"5\" valign=\"top\">2022-11-07</th>\n",
       "      <th>1557600.0</th>\n",
       "    </tr>\n",
       "    <tr>\n",
       "      <th>1624300.0</th>\n",
       "    </tr>\n",
       "    <tr>\n",
       "      <th>1749900.0</th>\n",
       "    </tr>\n",
       "    <tr>\n",
       "      <th>1942900.0</th>\n",
       "    </tr>\n",
       "    <tr>\n",
       "      <th>1988900.0</th>\n",
       "    </tr>\n",
       "  </tbody>\n",
       "</table>\n",
       "<p>1259 rows × 0 columns</p>\n",
       "</div>"
      ],
      "text/plain": [
       "Empty DataFrame\n",
       "Columns: []\n",
       "Index: [(2017-11-13 00:00:00, 1443300.0), (2017-11-13 00:00:00, 1721100.0), (2017-11-13 00:00:00, 1820200.0), (2017-11-13 00:00:00, 2145300.0), (2017-11-13 00:00:00, 2386700.0), (2017-11-20 00:00:00, 435600.0), (2017-11-20 00:00:00, 1129200.0), (2017-11-20 00:00:00, 1321000.0), (2017-11-20 00:00:00, 2225800.0), (2017-11-27 00:00:00, 1064400.0), (2017-11-27 00:00:00, 1682300.0), (2017-11-27 00:00:00, 1754700.0), (2017-11-27 00:00:00, 2099600.0), (2017-11-27 00:00:00, 2413700.0), (2017-12-04 00:00:00, 2062900.0), (2017-12-04 00:00:00, 2172000.0), (2017-12-04 00:00:00, 3541400.0), (2017-12-04 00:00:00, 4029300.0), (2017-12-04 00:00:00, 4893800.0), (2017-12-11 00:00:00, 2123200.0), (2017-12-11 00:00:00, 2633900.0), (2017-12-11 00:00:00, 2670300.0), (2017-12-11 00:00:00, 3273700.0), (2017-12-11 00:00:00, 4792500.0), (2017-12-18 00:00:00, 1689400.0), (2017-12-18 00:00:00, 2187900.0), (2017-12-18 00:00:00, 2499000.0), (2017-12-18 00:00:00, 2977200.0), (2017-12-18 00:00:00, 3612900.0), (2017-12-25 00:00:00, 839800.0), (2017-12-25 00:00:00, 856800.0), (2017-12-25 00:00:00, 935600.0), (2017-12-25 00:00:00, 976000.0), (2018-01-01 00:00:00, 1132400.0), (2018-01-01 00:00:00, 1568100.0), (2018-01-01 00:00:00, 1593400.0), (2018-01-01 00:00:00, 3156900.0), (2018-01-08 00:00:00, 1374100.0), (2018-01-08 00:00:00, 1660800.0), (2018-01-08 00:00:00, 1891000.0), (2018-01-08 00:00:00, 2313800.0), (2018-01-08 00:00:00, 2571600.0), (2018-01-15 00:00:00, 1754600.0), (2018-01-15 00:00:00, 1768600.0), (2018-01-15 00:00:00, 2112800.0), (2018-01-15 00:00:00, 2271500.0), (2018-01-22 00:00:00, 2419600.0), (2018-01-22 00:00:00, 2519500.0), (2018-01-22 00:00:00, 2521400.0), (2018-01-22 00:00:00, 3924000.0), (2018-01-22 00:00:00, 3943700.0), (2018-01-29 00:00:00, 1782400.0), (2018-01-29 00:00:00, 2281900.0), (2018-01-29 00:00:00, 2346200.0), (2018-01-29 00:00:00, 2377500.0), (2018-01-29 00:00:00, 2424300.0), (2018-02-05 00:00:00, 2411800.0), (2018-02-05 00:00:00, 3616700.0), (2018-02-05 00:00:00, 3656300.0), (2018-02-05 00:00:00, 4041100.0), (2018-02-05 00:00:00, 4162100.0), (2018-02-12 00:00:00, 1715700.0), (2018-02-12 00:00:00, 1952600.0), (2018-02-12 00:00:00, 2543200.0), (2018-02-12 00:00:00, 3342100.0), (2018-02-12 00:00:00, 3752000.0), (2018-02-19 00:00:00, 1653100.0), (2018-02-19 00:00:00, 2133900.0), (2018-02-19 00:00:00, 2427600.0), (2018-02-19 00:00:00, 2933000.0), (2018-02-26 00:00:00, 1673800.0), (2018-02-26 00:00:00, 1865900.0), (2018-02-26 00:00:00, 2399700.0), (2018-02-26 00:00:00, 2443800.0), (2018-02-26 00:00:00, 2719100.0), (2018-03-05 00:00:00, 1721900.0), (2018-03-05 00:00:00, 3103500.0), (2018-03-05 00:00:00, 3619100.0), (2018-03-05 00:00:00, 3671500.0), (2018-03-05 00:00:00, 5545300.0), (2018-03-12 00:00:00, 1843500.0), (2018-03-12 00:00:00, 1859300.0), (2018-03-12 00:00:00, 1880400.0), (2018-03-12 00:00:00, 2349900.0), (2018-03-12 00:00:00, 2937800.0), (2018-03-19 00:00:00, 1741900.0), (2018-03-19 00:00:00, 1772600.0), (2018-03-19 00:00:00, 1925700.0), (2018-03-19 00:00:00, 1938700.0), (2018-03-19 00:00:00, 2316200.0), (2018-03-26 00:00:00, 1909800.0), (2018-03-26 00:00:00, 2243300.0), (2018-03-26 00:00:00, 2586100.0), (2018-03-26 00:00:00, 2830600.0), (2018-04-02 00:00:00, 1633400.0), (2018-04-02 00:00:00, 1932200.0), (2018-04-02 00:00:00, 2304700.0), (2018-04-02 00:00:00, 2395400.0), (2018-04-02 00:00:00, 2567300.0), (2018-04-09 00:00:00, 988800.0), ...]\n",
       "\n",
       "[1259 rows x 0 columns]"
      ]
     },
     "execution_count": 101,
     "metadata": {},
     "output_type": "execute_result"
    }
   ],
   "source": [
    "HIGa=HIG.drop(result.columns[[1,2,3,4,6]], axis=1)\n",
    "HIGa['Datetime'] = pd.to_datetime(HIG.Date)    \n",
    "tt = HIGa.groupby([pd.Grouper(key='Datetime', freq=\"7d\"),'Volume']).mean()\n",
    "tt"
   ]
  },
  {
   "cell_type": "code",
   "execution_count": 102,
   "id": "0be31c2b",
   "metadata": {},
   "outputs": [
    {
     "name": "stderr",
     "output_type": "stream",
     "text": [
      "C:\\Users\\Дастан\\AppData\\Local\\Temp\\ipykernel_4588\\3999140830.py:3: FutureWarning: Dropping invalid columns in DataFrameGroupBy.mean is deprecated. In a future version, a TypeError will be raised. Before calling .mean, select only columns which should be valid for the function.\n",
      "  tt = IPa.groupby([pd.Grouper(key='Datetime', freq=\"7d\"),'Volume']).mean()\n"
     ]
    },
    {
     "data": {
      "text/html": [
       "<div>\n",
       "<style scoped>\n",
       "    .dataframe tbody tr th:only-of-type {\n",
       "        vertical-align: middle;\n",
       "    }\n",
       "\n",
       "    .dataframe tbody tr th {\n",
       "        vertical-align: top;\n",
       "    }\n",
       "\n",
       "    .dataframe thead th {\n",
       "        text-align: right;\n",
       "    }\n",
       "</style>\n",
       "<table border=\"1\" class=\"dataframe\">\n",
       "  <thead>\n",
       "    <tr style=\"text-align: right;\">\n",
       "      <th></th>\n",
       "      <th></th>\n",
       "    </tr>\n",
       "    <tr>\n",
       "      <th>Datetime</th>\n",
       "      <th>Volume</th>\n",
       "    </tr>\n",
       "  </thead>\n",
       "  <tbody>\n",
       "    <tr>\n",
       "      <th rowspan=\"5\" valign=\"top\">2017-11-13</th>\n",
       "      <th>1319683.0</th>\n",
       "    </tr>\n",
       "    <tr>\n",
       "      <th>1943885.0</th>\n",
       "    </tr>\n",
       "    <tr>\n",
       "      <th>1984541.0</th>\n",
       "    </tr>\n",
       "    <tr>\n",
       "      <th>2093731.0</th>\n",
       "    </tr>\n",
       "    <tr>\n",
       "      <th>2574634.0</th>\n",
       "    </tr>\n",
       "    <tr>\n",
       "      <th>...</th>\n",
       "      <th>...</th>\n",
       "    </tr>\n",
       "    <tr>\n",
       "      <th rowspan=\"5\" valign=\"top\">2022-11-07</th>\n",
       "      <th>2525600.0</th>\n",
       "    </tr>\n",
       "    <tr>\n",
       "      <th>3139800.0</th>\n",
       "    </tr>\n",
       "    <tr>\n",
       "      <th>3172000.0</th>\n",
       "    </tr>\n",
       "    <tr>\n",
       "      <th>4051600.0</th>\n",
       "    </tr>\n",
       "    <tr>\n",
       "      <th>5183500.0</th>\n",
       "    </tr>\n",
       "  </tbody>\n",
       "</table>\n",
       "<p>1259 rows × 0 columns</p>\n",
       "</div>"
      ],
      "text/plain": [
       "Empty DataFrame\n",
       "Columns: []\n",
       "Index: [(2017-11-13 00:00:00, 1319683.0), (2017-11-13 00:00:00, 1943885.0), (2017-11-13 00:00:00, 1984541.0), (2017-11-13 00:00:00, 2093731.0), (2017-11-13 00:00:00, 2574634.0), (2017-11-20 00:00:00, 598752.0), (2017-11-20 00:00:00, 1146605.0), (2017-11-20 00:00:00, 1271002.0), (2017-11-20 00:00:00, 2131747.0), (2017-11-27 00:00:00, 1690762.0), (2017-11-27 00:00:00, 2435136.0), (2017-11-27 00:00:00, 2446858.0), (2017-11-27 00:00:00, 2965037.0), (2017-11-27 00:00:00, 3001680.0), (2017-12-04 00:00:00, 1266883.0), (2017-12-04 00:00:00, 1374701.0), (2017-12-04 00:00:00, 1455274.0), (2017-12-04 00:00:00, 2424365.0), (2017-12-04 00:00:00, 2597232.0), (2017-12-11 00:00:00, 1681574.0), (2017-12-11 00:00:00, 2358259.0), (2017-12-11 00:00:00, 2726698.0), (2017-12-11 00:00:00, 2780870.0), (2017-12-11 00:00:00, 5141981.0), (2017-12-18 00:00:00, 1298669.0), (2017-12-18 00:00:00, 1548730.0), (2017-12-18 00:00:00, 1941562.0), (2017-12-18 00:00:00, 3066096.0), (2017-12-18 00:00:00, 3274550.0), (2017-12-25 00:00:00, 969302.0), (2017-12-25 00:00:00, 1069939.0), (2017-12-25 00:00:00, 1376074.0), (2017-12-25 00:00:00, 1657392.0), (2018-01-01 00:00:00, 1829098.0), (2018-01-01 00:00:00, 2705789.0), (2018-01-01 00:00:00, 2886893.0), (2018-01-01 00:00:00, 3355651.0), (2018-01-08 00:00:00, 1307539.0), (2018-01-08 00:00:00, 1416624.0), (2018-01-08 00:00:00, 2351290.0), (2018-01-08 00:00:00, 2591846.0), (2018-01-08 00:00:00, 2627222.0), (2018-01-15 00:00:00, 1633632.0), (2018-01-15 00:00:00, 1944096.0), (2018-01-15 00:00:00, 3301267.0), (2018-01-15 00:00:00, 4694237.0), (2018-01-22 00:00:00, 1688861.0), (2018-01-22 00:00:00, 1825507.0), (2018-01-22 00:00:00, 1875984.0), (2018-01-22 00:00:00, 2084016.0), (2018-01-22 00:00:00, 3307603.0), (2018-01-29 00:00:00, 2567875.0), (2018-01-29 00:00:00, 3973622.0), (2018-01-29 00:00:00, 4462973.0), (2018-01-29 00:00:00, 4541856.0), (2018-01-29 00:00:00, 5160566.0), (2018-02-05 00:00:00, 3564317.0), (2018-02-05 00:00:00, 3678470.0), (2018-02-05 00:00:00, 3937930.0), (2018-02-05 00:00:00, 4088198.0), (2018-02-05 00:00:00, 4557485.0), (2018-02-12 00:00:00, 2144314.0), (2018-02-12 00:00:00, 2365862.0), (2018-02-12 00:00:00, 2475792.0), (2018-02-12 00:00:00, 2723318.0), (2018-02-12 00:00:00, 3025546.0), (2018-02-19 00:00:00, 1573862.0), (2018-02-19 00:00:00, 2410003.0), (2018-02-19 00:00:00, 2417606.0), (2018-02-19 00:00:00, 2966938.0), (2018-02-26 00:00:00, 1611667.0), (2018-02-26 00:00:00, 1934803.0), (2018-02-26 00:00:00, 2040086.0), (2018-02-26 00:00:00, 2369347.0), (2018-02-26 00:00:00, 2490682.0), (2018-03-05 00:00:00, 2105136.0), (2018-03-05 00:00:00, 3799382.0), (2018-03-05 00:00:00, 4094534.0), (2018-03-05 00:00:00, 4707014.0), (2018-03-05 00:00:00, 7895501.0), (2018-03-12 00:00:00, 2676221.0), (2018-03-12 00:00:00, 3024490.0), (2018-03-12 00:00:00, 3163248.0), (2018-03-12 00:00:00, 3527251.0), (2018-03-12 00:00:00, 4213123.0), (2018-03-19 00:00:00, 2977392.0), (2018-03-19 00:00:00, 3038957.0), (2018-03-19 00:00:00, 3108336.0), (2018-03-19 00:00:00, 3161242.0), (2018-03-19 00:00:00, 3365366.0), (2018-03-26 00:00:00, 2954477.0), (2018-03-26 00:00:00, 3032198.0), (2018-03-26 00:00:00, 3617117.0), (2018-03-26 00:00:00, 4835530.0), (2018-04-02 00:00:00, 2470723.0), (2018-04-02 00:00:00, 3004954.0), (2018-04-02 00:00:00, 3120269.0), (2018-04-02 00:00:00, 3446784.0), (2018-04-02 00:00:00, 3467693.0), (2018-04-09 00:00:00, 1386528.0), ...]\n",
       "\n",
       "[1259 rows x 0 columns]"
      ]
     },
     "execution_count": 102,
     "metadata": {},
     "output_type": "execute_result"
    }
   ],
   "source": [
    "IPa=IP.drop(result.columns[[1,2,3,4,6]], axis=1)\n",
    "IPa['Datetime'] = pd.to_datetime(IP.Date)    \n",
    "tt = IPa.groupby([pd.Grouper(key='Datetime', freq=\"7d\"),'Volume']).mean()\n",
    "tt"
   ]
  },
  {
   "cell_type": "code",
   "execution_count": 104,
   "id": "d2383a90",
   "metadata": {},
   "outputs": [
    {
     "name": "stderr",
     "output_type": "stream",
     "text": [
      "C:\\Users\\Дастан\\AppData\\Local\\Temp\\ipykernel_4588\\2935645109.py:3: FutureWarning: Dropping invalid columns in DataFrameGroupBy.mean is deprecated. In a future version, a TypeError will be raised. Before calling .mean, select only columns which should be valid for the function.\n",
      "  tt = MTBa.groupby([pd.Grouper(key='Datetime', freq=\"7d\"),'Volume']).mean()\n"
     ]
    },
    {
     "data": {
      "text/html": [
       "<div>\n",
       "<style scoped>\n",
       "    .dataframe tbody tr th:only-of-type {\n",
       "        vertical-align: middle;\n",
       "    }\n",
       "\n",
       "    .dataframe tbody tr th {\n",
       "        vertical-align: top;\n",
       "    }\n",
       "\n",
       "    .dataframe thead th {\n",
       "        text-align: right;\n",
       "    }\n",
       "</style>\n",
       "<table border=\"1\" class=\"dataframe\">\n",
       "  <thead>\n",
       "    <tr style=\"text-align: right;\">\n",
       "      <th></th>\n",
       "      <th></th>\n",
       "    </tr>\n",
       "    <tr>\n",
       "      <th>Datetime</th>\n",
       "      <th>Volume</th>\n",
       "    </tr>\n",
       "  </thead>\n",
       "  <tbody>\n",
       "    <tr>\n",
       "      <th rowspan=\"5\" valign=\"top\">2017-11-13</th>\n",
       "      <th>371400.0</th>\n",
       "    </tr>\n",
       "    <tr>\n",
       "      <th>505400.0</th>\n",
       "    </tr>\n",
       "    <tr>\n",
       "      <th>514500.0</th>\n",
       "    </tr>\n",
       "    <tr>\n",
       "      <th>589400.0</th>\n",
       "    </tr>\n",
       "    <tr>\n",
       "      <th>1092800.0</th>\n",
       "    </tr>\n",
       "    <tr>\n",
       "      <th>...</th>\n",
       "      <th>...</th>\n",
       "    </tr>\n",
       "    <tr>\n",
       "      <th rowspan=\"5\" valign=\"top\">2022-11-07</th>\n",
       "      <th>980500.0</th>\n",
       "    </tr>\n",
       "    <tr>\n",
       "      <th>991200.0</th>\n",
       "    </tr>\n",
       "    <tr>\n",
       "      <th>1019600.0</th>\n",
       "    </tr>\n",
       "    <tr>\n",
       "      <th>1332500.0</th>\n",
       "    </tr>\n",
       "    <tr>\n",
       "      <th>2264100.0</th>\n",
       "    </tr>\n",
       "  </tbody>\n",
       "</table>\n",
       "<p>1258 rows × 0 columns</p>\n",
       "</div>"
      ],
      "text/plain": [
       "Empty DataFrame\n",
       "Columns: []\n",
       "Index: [(2017-11-13 00:00:00, 371400.0), (2017-11-13 00:00:00, 505400.0), (2017-11-13 00:00:00, 514500.0), (2017-11-13 00:00:00, 589400.0), (2017-11-13 00:00:00, 1092800.0), (2017-11-20 00:00:00, 180700.0), (2017-11-20 00:00:00, 291100.0), (2017-11-20 00:00:00, 409800.0), (2017-11-20 00:00:00, 596000.0), (2017-11-27 00:00:00, 361900.0), (2017-11-27 00:00:00, 699200.0), (2017-11-27 00:00:00, 758300.0), (2017-11-27 00:00:00, 766800.0), (2017-11-27 00:00:00, 1075600.0), (2017-12-04 00:00:00, 401700.0), (2017-12-04 00:00:00, 436800.0), (2017-12-04 00:00:00, 463800.0), (2017-12-04 00:00:00, 598000.0), (2017-12-04 00:00:00, 846600.0), (2017-12-11 00:00:00, 479200.0), (2017-12-11 00:00:00, 514200.0), (2017-12-11 00:00:00, 658300.0), (2017-12-11 00:00:00, 945800.0), (2017-12-11 00:00:00, 1478000.0), (2017-12-18 00:00:00, 332200.0), (2017-12-18 00:00:00, 444500.0), (2017-12-18 00:00:00, 612800.0), (2017-12-18 00:00:00, 624400.0), (2017-12-18 00:00:00, 779700.0), (2017-12-25 00:00:00, 224200.0), (2017-12-25 00:00:00, 308200.0), (2017-12-25 00:00:00, 364600.0), (2017-12-25 00:00:00, 414100.0), (2018-01-01 00:00:00, 424000.0), (2018-01-01 00:00:00, 437600.0), (2018-01-01 00:00:00, 549700.0), (2018-01-01 00:00:00, 628300.0), (2018-01-08 00:00:00, 342000.0), (2018-01-08 00:00:00, 439600.0), (2018-01-08 00:00:00, 488900.0), (2018-01-08 00:00:00, 539100.0), (2018-01-08 00:00:00, 549900.0), (2018-01-15 00:00:00, 607900.0), (2018-01-15 00:00:00, 749600.0), (2018-01-15 00:00:00, 824800.0), (2018-01-15 00:00:00, 1397000.0), (2018-01-22 00:00:00, 434400.0), (2018-01-22 00:00:00, 597500.0), (2018-01-22 00:00:00, 637900.0), (2018-01-22 00:00:00, 649400.0), (2018-01-22 00:00:00, 991900.0), (2018-01-29 00:00:00, 568300.0), (2018-01-29 00:00:00, 571500.0), (2018-01-29 00:00:00, 614700.0), (2018-01-29 00:00:00, 633100.0), (2018-01-29 00:00:00, 649800.0), (2018-02-05 00:00:00, 512100.0), (2018-02-05 00:00:00, 813500.0), (2018-02-05 00:00:00, 1000600.0), (2018-02-05 00:00:00, 1093400.0), (2018-02-05 00:00:00, 1422000.0), (2018-02-12 00:00:00, 671200.0), (2018-02-12 00:00:00, 711100.0), (2018-02-12 00:00:00, 763200.0), (2018-02-12 00:00:00, 783200.0), (2018-02-12 00:00:00, 821800.0), (2018-02-19 00:00:00, 524700.0), (2018-02-19 00:00:00, 642700.0), (2018-02-19 00:00:00, 807700.0), (2018-02-19 00:00:00, 845900.0), (2018-02-26 00:00:00, 506400.0), (2018-02-26 00:00:00, 654600.0), (2018-02-26 00:00:00, 660300.0), (2018-02-26 00:00:00, 746700.0), (2018-02-26 00:00:00, 831600.0), (2018-03-05 00:00:00, 532600.0), (2018-03-05 00:00:00, 556100.0), (2018-03-05 00:00:00, 594500.0), (2018-03-05 00:00:00, 663800.0), (2018-03-05 00:00:00, 805000.0), (2018-03-12 00:00:00, 406000.0), (2018-03-12 00:00:00, 473800.0), (2018-03-12 00:00:00, 476400.0), (2018-03-12 00:00:00, 631000.0), (2018-03-12 00:00:00, 1298900.0), (2018-03-19 00:00:00, 419000.0), (2018-03-19 00:00:00, 482100.0), (2018-03-19 00:00:00, 635900.0), (2018-03-19 00:00:00, 906200.0), (2018-03-19 00:00:00, 958100.0), (2018-03-26 00:00:00, 511100.0), (2018-03-26 00:00:00, 578600.0), (2018-03-26 00:00:00, 819500.0), (2018-03-26 00:00:00, 861600.0), (2018-04-02 00:00:00, 498400.0), (2018-04-02 00:00:00, 506900.0), (2018-04-02 00:00:00, 537900.0), (2018-04-02 00:00:00, 586500.0), (2018-04-02 00:00:00, 641500.0), (2018-04-09 00:00:00, 424700.0), ...]\n",
       "\n",
       "[1258 rows x 0 columns]"
      ]
     },
     "execution_count": 104,
     "metadata": {},
     "output_type": "execute_result"
    }
   ],
   "source": [
    "MTBa=MTB.drop(result.columns[[1,2,3,4,6]], axis=1)\n",
    "MTBa['Datetime'] = pd.to_datetime(MTB.Date)    \n",
    "tt = MTBa.groupby([pd.Grouper(key='Datetime', freq=\"7d\"),'Volume']).mean()\n",
    "tt"
   ]
  },
  {
   "cell_type": "code",
   "execution_count": null,
   "id": "f1e94920",
   "metadata": {},
   "outputs": [],
   "source": []
  },
  {
   "cell_type": "code",
   "execution_count": 108,
   "id": "fbb03dd6",
   "metadata": {},
   "outputs": [],
   "source": [
    "# PART 2"
   ]
  },
  {
   "cell_type": "code",
   "execution_count": 142,
   "id": "1e6439f7",
   "metadata": {},
   "outputs": [
    {
     "data": {
      "text/html": [
       "<div>\n",
       "<style scoped>\n",
       "    .dataframe tbody tr th:only-of-type {\n",
       "        vertical-align: middle;\n",
       "    }\n",
       "\n",
       "    .dataframe tbody tr th {\n",
       "        vertical-align: top;\n",
       "    }\n",
       "\n",
       "    .dataframe thead th {\n",
       "        text-align: right;\n",
       "    }\n",
       "</style>\n",
       "<table border=\"1\" class=\"dataframe\">\n",
       "  <thead>\n",
       "    <tr style=\"text-align: right;\">\n",
       "      <th></th>\n",
       "      <th>Symbol</th>\n",
       "      <th>Security</th>\n",
       "      <th>GICS Sector</th>\n",
       "      <th>hq</th>\n",
       "      <th>included</th>\n",
       "      <th>Founded</th>\n",
       "    </tr>\n",
       "  </thead>\n",
       "  <tbody>\n",
       "    <tr>\n",
       "      <th>0</th>\n",
       "      <td>MMM</td>\n",
       "      <td>3M</td>\n",
       "      <td>Industrials</td>\n",
       "      <td>Saint Paul, Minnesota</td>\n",
       "      <td>09.08.1976</td>\n",
       "      <td>1902</td>\n",
       "    </tr>\n",
       "    <tr>\n",
       "      <th>1</th>\n",
       "      <td>AOS</td>\n",
       "      <td>A. O. Smith</td>\n",
       "      <td>Industrials</td>\n",
       "      <td>Milwaukee, Wisconsin</td>\n",
       "      <td>26.07.2017</td>\n",
       "      <td>1916</td>\n",
       "    </tr>\n",
       "    <tr>\n",
       "      <th>2</th>\n",
       "      <td>ABT</td>\n",
       "      <td>Abbott</td>\n",
       "      <td>Health Care</td>\n",
       "      <td>North Chicago, Illinois</td>\n",
       "      <td>31.03.1964</td>\n",
       "      <td>1888</td>\n",
       "    </tr>\n",
       "    <tr>\n",
       "      <th>3</th>\n",
       "      <td>ABBV</td>\n",
       "      <td>AbbVie</td>\n",
       "      <td>Health Care</td>\n",
       "      <td>North Chicago, Illinois</td>\n",
       "      <td>31.12.2012</td>\n",
       "      <td>2013 (1888)</td>\n",
       "    </tr>\n",
       "    <tr>\n",
       "      <th>4</th>\n",
       "      <td>ABMD</td>\n",
       "      <td>Abiomed</td>\n",
       "      <td>Health Care</td>\n",
       "      <td>Danvers, Massachusetts</td>\n",
       "      <td>31.05.2018</td>\n",
       "      <td>1981</td>\n",
       "    </tr>\n",
       "    <tr>\n",
       "      <th>...</th>\n",
       "      <td>...</td>\n",
       "      <td>...</td>\n",
       "      <td>...</td>\n",
       "      <td>...</td>\n",
       "      <td>...</td>\n",
       "      <td>...</td>\n",
       "    </tr>\n",
       "    <tr>\n",
       "      <th>498</th>\n",
       "      <td>YUM</td>\n",
       "      <td>Yum! Brands</td>\n",
       "      <td>Consumer Discretionary</td>\n",
       "      <td>Louisville, Kentucky</td>\n",
       "      <td>06.10.1997</td>\n",
       "      <td>1997</td>\n",
       "    </tr>\n",
       "    <tr>\n",
       "      <th>499</th>\n",
       "      <td>ZBRA</td>\n",
       "      <td>Zebra Technologies</td>\n",
       "      <td>Information Technology</td>\n",
       "      <td>Lincolnshire, Illinois</td>\n",
       "      <td>23.12.2019</td>\n",
       "      <td>1969</td>\n",
       "    </tr>\n",
       "    <tr>\n",
       "      <th>500</th>\n",
       "      <td>ZBH</td>\n",
       "      <td>Zimmer Biomet</td>\n",
       "      <td>Health Care</td>\n",
       "      <td>Warsaw, Indiana</td>\n",
       "      <td>07.08.2001</td>\n",
       "      <td>1927</td>\n",
       "    </tr>\n",
       "    <tr>\n",
       "      <th>501</th>\n",
       "      <td>ZION</td>\n",
       "      <td>Zions Bancorporation</td>\n",
       "      <td>Financials</td>\n",
       "      <td>Salt Lake City, Utah</td>\n",
       "      <td>22.06.2001</td>\n",
       "      <td>1873</td>\n",
       "    </tr>\n",
       "    <tr>\n",
       "      <th>502</th>\n",
       "      <td>ZTS</td>\n",
       "      <td>Zoetis</td>\n",
       "      <td>Health Care</td>\n",
       "      <td>Parsippany, New Jersey</td>\n",
       "      <td>21.06.2013</td>\n",
       "      <td>1952</td>\n",
       "    </tr>\n",
       "  </tbody>\n",
       "</table>\n",
       "<p>503 rows × 6 columns</p>\n",
       "</div>"
      ],
      "text/plain": [
       "    Symbol              Security             GICS Sector  \\\n",
       "0      MMM                    3M             Industrials   \n",
       "1      AOS           A. O. Smith             Industrials   \n",
       "2      ABT                Abbott             Health Care   \n",
       "3     ABBV                AbbVie             Health Care   \n",
       "4     ABMD               Abiomed             Health Care   \n",
       "..     ...                   ...                     ...   \n",
       "498    YUM           Yum! Brands  Consumer Discretionary   \n",
       "499   ZBRA    Zebra Technologies  Information Technology   \n",
       "500    ZBH         Zimmer Biomet             Health Care   \n",
       "501   ZION  Zions Bancorporation              Financials   \n",
       "502    ZTS                Zoetis             Health Care   \n",
       "\n",
       "                          hq    included      Founded  \n",
       "0      Saint Paul, Minnesota  09.08.1976         1902  \n",
       "1       Milwaukee, Wisconsin  26.07.2017         1916  \n",
       "2    North Chicago, Illinois  31.03.1964         1888  \n",
       "3    North Chicago, Illinois  31.12.2012  2013 (1888)  \n",
       "4     Danvers, Massachusetts  31.05.2018         1981  \n",
       "..                       ...         ...          ...  \n",
       "498     Louisville, Kentucky  06.10.1997         1997  \n",
       "499   Lincolnshire, Illinois  23.12.2019         1969  \n",
       "500          Warsaw, Indiana  07.08.2001         1927  \n",
       "501     Salt Lake City, Utah  22.06.2001         1873  \n",
       "502   Parsippany, New Jersey  21.06.2013         1952  \n",
       "\n",
       "[503 rows x 6 columns]"
      ]
     },
     "execution_count": 142,
     "metadata": {},
     "output_type": "execute_result"
    }
   ],
   "source": [
    "partii = pd.read_csv('./companies_no_subindustry.csv')\n",
    "partii.sort_index()\n",
    "\n"
   ]
  },
  {
   "cell_type": "code",
   "execution_count": 131,
   "id": "86efd808",
   "metadata": {},
   "outputs": [
    {
     "data": {
      "text/html": [
       "<div>\n",
       "<style scoped>\n",
       "    .dataframe tbody tr th:only-of-type {\n",
       "        vertical-align: middle;\n",
       "    }\n",
       "\n",
       "    .dataframe tbody tr th {\n",
       "        vertical-align: top;\n",
       "    }\n",
       "\n",
       "    .dataframe thead th {\n",
       "        text-align: right;\n",
       "    }\n",
       "</style>\n",
       "<table border=\"1\" class=\"dataframe\">\n",
       "  <thead>\n",
       "    <tr style=\"text-align: right;\">\n",
       "      <th></th>\n",
       "      <th>Security</th>\n",
       "      <th>GICS Sector</th>\n",
       "      <th>hq</th>\n",
       "      <th>included</th>\n",
       "      <th>Founded</th>\n",
       "    </tr>\n",
       "    <tr>\n",
       "      <th>Symbol</th>\n",
       "      <th></th>\n",
       "      <th></th>\n",
       "      <th></th>\n",
       "      <th></th>\n",
       "      <th></th>\n",
       "    </tr>\n",
       "  </thead>\n",
       "  <tbody>\n",
       "    <tr>\n",
       "      <th>MMM</th>\n",
       "      <td>3M</td>\n",
       "      <td>Industrials</td>\n",
       "      <td>Saint Paul, Minnesota</td>\n",
       "      <td>09.08.1976</td>\n",
       "      <td>1902</td>\n",
       "    </tr>\n",
       "    <tr>\n",
       "      <th>AOS</th>\n",
       "      <td>A. O. Smith</td>\n",
       "      <td>Industrials</td>\n",
       "      <td>Milwaukee, Wisconsin</td>\n",
       "      <td>26.07.2017</td>\n",
       "      <td>1916</td>\n",
       "    </tr>\n",
       "    <tr>\n",
       "      <th>ABT</th>\n",
       "      <td>Abbott</td>\n",
       "      <td>Health Care</td>\n",
       "      <td>North Chicago, Illinois</td>\n",
       "      <td>31.03.1964</td>\n",
       "      <td>1888</td>\n",
       "    </tr>\n",
       "    <tr>\n",
       "      <th>ABBV</th>\n",
       "      <td>AbbVie</td>\n",
       "      <td>Health Care</td>\n",
       "      <td>North Chicago, Illinois</td>\n",
       "      <td>31.12.2012</td>\n",
       "      <td>2013 (1888)</td>\n",
       "    </tr>\n",
       "    <tr>\n",
       "      <th>ABMD</th>\n",
       "      <td>Abiomed</td>\n",
       "      <td>Health Care</td>\n",
       "      <td>Danvers, Massachusetts</td>\n",
       "      <td>31.05.2018</td>\n",
       "      <td>1981</td>\n",
       "    </tr>\n",
       "    <tr>\n",
       "      <th>...</th>\n",
       "      <td>...</td>\n",
       "      <td>...</td>\n",
       "      <td>...</td>\n",
       "      <td>...</td>\n",
       "      <td>...</td>\n",
       "    </tr>\n",
       "    <tr>\n",
       "      <th>YUM</th>\n",
       "      <td>Yum! Brands</td>\n",
       "      <td>Consumer Discretionary</td>\n",
       "      <td>Louisville, Kentucky</td>\n",
       "      <td>06.10.1997</td>\n",
       "      <td>1997</td>\n",
       "    </tr>\n",
       "    <tr>\n",
       "      <th>ZBRA</th>\n",
       "      <td>Zebra Technologies</td>\n",
       "      <td>Information Technology</td>\n",
       "      <td>Lincolnshire, Illinois</td>\n",
       "      <td>23.12.2019</td>\n",
       "      <td>1969</td>\n",
       "    </tr>\n",
       "    <tr>\n",
       "      <th>ZBH</th>\n",
       "      <td>Zimmer Biomet</td>\n",
       "      <td>Health Care</td>\n",
       "      <td>Warsaw, Indiana</td>\n",
       "      <td>07.08.2001</td>\n",
       "      <td>1927</td>\n",
       "    </tr>\n",
       "    <tr>\n",
       "      <th>ZION</th>\n",
       "      <td>Zions Bancorporation</td>\n",
       "      <td>Financials</td>\n",
       "      <td>Salt Lake City, Utah</td>\n",
       "      <td>22.06.2001</td>\n",
       "      <td>1873</td>\n",
       "    </tr>\n",
       "    <tr>\n",
       "      <th>ZTS</th>\n",
       "      <td>Zoetis</td>\n",
       "      <td>Health Care</td>\n",
       "      <td>Parsippany, New Jersey</td>\n",
       "      <td>21.06.2013</td>\n",
       "      <td>1952</td>\n",
       "    </tr>\n",
       "  </tbody>\n",
       "</table>\n",
       "<p>503 rows × 5 columns</p>\n",
       "</div>"
      ],
      "text/plain": [
       "                    Security             GICS Sector                       hq  \\\n",
       "Symbol                                                                          \n",
       "MMM                       3M             Industrials    Saint Paul, Minnesota   \n",
       "AOS              A. O. Smith             Industrials     Milwaukee, Wisconsin   \n",
       "ABT                   Abbott             Health Care  North Chicago, Illinois   \n",
       "ABBV                  AbbVie             Health Care  North Chicago, Illinois   \n",
       "ABMD                 Abiomed             Health Care   Danvers, Massachusetts   \n",
       "...                      ...                     ...                      ...   \n",
       "YUM              Yum! Brands  Consumer Discretionary     Louisville, Kentucky   \n",
       "ZBRA      Zebra Technologies  Information Technology   Lincolnshire, Illinois   \n",
       "ZBH            Zimmer Biomet             Health Care          Warsaw, Indiana   \n",
       "ZION    Zions Bancorporation              Financials     Salt Lake City, Utah   \n",
       "ZTS                   Zoetis             Health Care   Parsippany, New Jersey   \n",
       "\n",
       "          included      Founded  \n",
       "Symbol                           \n",
       "MMM     09.08.1976         1902  \n",
       "AOS     26.07.2017         1916  \n",
       "ABT     31.03.1964         1888  \n",
       "ABBV    31.12.2012  2013 (1888)  \n",
       "ABMD    31.05.2018         1981  \n",
       "...            ...          ...  \n",
       "YUM     06.10.1997         1997  \n",
       "ZBRA    23.12.2019         1969  \n",
       "ZBH     07.08.2001         1927  \n",
       "ZION    22.06.2001         1873  \n",
       "ZTS     21.06.2013         1952  \n",
       "\n",
       "[503 rows x 5 columns]"
      ]
     },
     "execution_count": 131,
     "metadata": {},
     "output_type": "execute_result"
    }
   ],
   "source": [
    "partii=partii.set_index(['Symbol'])\n",
    "partii"
   ]
  },
  {
   "cell_type": "code",
   "execution_count": 132,
   "id": "e43dd962",
   "metadata": {},
   "outputs": [
    {
     "data": {
      "text/plain": [
       "Symbol\n",
       "MMM     True\n",
       "AOS     True\n",
       "ABT     True\n",
       "ABBV    True\n",
       "ABMD    True\n",
       "        ... \n",
       "YUM     True\n",
       "ZBRA    True\n",
       "ZBH     True\n",
       "ZION    True\n",
       "ZTS     True\n",
       "Name: included, Length: 503, dtype: bool"
      ]
     },
     "execution_count": 132,
     "metadata": {},
     "output_type": "execute_result"
    }
   ],
   "source": [
    "partii['included']==partii['included']"
   ]
  },
  {
   "cell_type": "code",
   "execution_count": null,
   "id": "04aba300",
   "metadata": {},
   "outputs": [],
   "source": []
  },
  {
   "cell_type": "code",
   "execution_count": null,
   "id": "6df4f24f",
   "metadata": {},
   "outputs": [],
   "source": []
  },
  {
   "cell_type": "code",
   "execution_count": null,
   "id": "b66032df",
   "metadata": {},
   "outputs": [],
   "source": []
  }
 ],
 "metadata": {
  "kernelspec": {
   "display_name": "Python 3 (ipykernel)",
   "language": "python",
   "name": "python3"
  },
  "language_info": {
   "codemirror_mode": {
    "name": "ipython",
    "version": 3
   },
   "file_extension": ".py",
   "mimetype": "text/x-python",
   "name": "python",
   "nbconvert_exporter": "python",
   "pygments_lexer": "ipython3",
   "version": "3.9.12"
  }
 },
 "nbformat": 4,
 "nbformat_minor": 5
}
